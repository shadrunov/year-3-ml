{
 "cells": [
  {
   "cell_type": "markdown",
   "id": "49b1f69f",
   "metadata": {},
   "source": [
    "<h1>Семинар 1.1</h1>"
   ]
  },
  {
   "cell_type": "markdown",
   "id": "6ccfa33d",
   "metadata": {},
   "source": [
    "### Контакты\n",
    "\n",
    "1. Telegram: **@DoubleMindy**\n",
    "2. Почта: is.timokhin@hse.ru\n",
    "3. Телефон: 89309761400\n",
    "\n",
    "*(на случай, если нужно обратиться, но забыли имя -- ***Илья Сергеевич***)*"
   ]
  },
  {
   "cell_type": "markdown",
   "id": "8c9f1e33",
   "metadata": {},
   "source": [
    "### Планы на модуль\n",
    "\n",
    "1. 5 (+ 1) семинаров\n",
    "2. Сдача 2 домашних заданий\n",
    "3. Изучение основ Python, фреймворков работы с данными\n",
    "\n",
    "\n"
   ]
  },
  {
   "cell_type": "markdown",
   "id": "f85b64c5",
   "metadata": {},
   "source": [
    "<h3>Инструментарий</h3>\n",
    "\n",
    "1. Python 3+\n",
    "\n",
    "2. AnaConda (/w Jupyter) ИЛИ JupyterLab ИЛИ что угодно в формате Jupyter Notebook\n",
    "\n",
    "3. Командная строка: **pip install...**\n",
    "\n",
    "4. Курсы, книги, онлайн-лекции..."
   ]
  },
  {
   "cell_type": "markdown",
   "id": "5b8c1082",
   "metadata": {},
   "source": [
    "<h3>Домашние задания</h3>\n",
    "\n",
    "Выкладываются в начале модуля. Как их выполнять?\n",
    "\n",
    "**Вариант 1**: Приходить на практические занятия, выполняя поэтапно с возможностью консультаций/подсказок;\n",
    "    \n",
    "**Вариант 2**: Сдавать на последних практических занятиях \"целое\" задание, защищая работу."
   ]
  },
  {
   "cell_type": "markdown",
   "id": "3129d410",
   "metadata": {},
   "source": [
    "<h2>Задание старосте:</h2>\n",
    "\n",
    "   ***(Если старосты нет, назначить на месте. Если назначить не получится, выбрать через random.org)***\n",
    "    \n",
    "   Создать группу в TG, добавить туда *всех* студентов из подгруппы;\n",
    "\n",
    "<h2>Задание группе:</h2>\n",
    "    \n",
    "   Пройти небольшое анонимое анкетирование: какие языки программирования Вы знаете? Какие технические навыки Вы имеете? Оцените свои навыки по шкале (1-5).\n",
    "   \n",
    "   ***Пример:*** Студент 1. Python (3), C++ (2, проходил онлайн-курс), DevOps (4), машинное обучение (2), Bash/UNIX-admin (3)..."
   ]
  },
  {
   "cell_type": "markdown",
   "id": "390e072b",
   "metadata": {},
   "source": [
    "<h1>Поговорим про Python</h1>"
   ]
  },
  {
   "cell_type": "markdown",
   "id": "9a5bf89a",
   "metadata": {},
   "source": [
    "### Вывод значений"
   ]
  },
  {
   "cell_type": "code",
   "execution_count": 24,
   "id": "06e1f4c9",
   "metadata": {
    "scrolled": true
   },
   "outputs": [
    {
     "name": "stdout",
     "output_type": "stream",
     "text": [
      "2\n",
      "8\n",
      "32\n",
      "I love HSE!\n",
      "I love MIEM!\n"
     ]
    }
   ],
   "source": [
    "print(2)\n",
    "print(2*2*2)\n",
    "print(2**5)\n",
    "print(\"I love HSE!\")\n",
    "print(\"I {} MIEM!\".format(\"love\")) # really?..."
   ]
  },
  {
   "cell_type": "markdown",
   "id": "4cffa2d8",
   "metadata": {},
   "source": [
    "### Переменные"
   ]
  },
  {
   "cell_type": "code",
   "execution_count": 25,
   "id": "bcb4de0d",
   "metadata": {},
   "outputs": [
    {
     "name": "stdout",
     "output_type": "stream",
     "text": [
      "68 34\n"
     ]
    }
   ],
   "source": [
    "a = int(\"32\")\n",
    "b = 333\n",
    "c = int(\"3\" + \"3\")\n",
    "d = int(True & bool(3)) # int(True & True) = int(True) = int(1) = 1\n",
    "cost1 = a * 100 + b\n",
    "cost2 = c * 100 + d\n",
    "totalCost = cost1 + cost2\n",
    "print(totalCost // 100, totalCost % 100)"
   ]
  },
  {
   "cell_type": "markdown",
   "id": "22bc9d56",
   "metadata": {},
   "source": [
    "### Условия"
   ]
  },
  {
   "cell_type": "code",
   "execution_count": 26,
   "id": "649d22ff",
   "metadata": {},
   "outputs": [
    {
     "name": "stdout",
     "output_type": "stream",
     "text": [
      "True\n",
      "2\n"
     ]
    }
   ],
   "source": [
    "foo = 42\n",
    "a, b = 40, 50\n",
    "print(a <= foo < b)\n",
    "\n",
    "if not foo >= a:\n",
    "    print(\"1\")\n",
    "else:\n",
    "    print(str(2))"
   ]
  },
  {
   "cell_type": "markdown",
   "id": "8a567800",
   "metadata": {},
   "source": [
    "### Строки и циклы"
   ]
  },
  {
   "cell_type": "code",
   "execution_count": 27,
   "id": "c7de88d3",
   "metadata": {},
   "outputs": [
    {
     "name": "stdout",
     "output_type": "stream",
     "text": [
      "Количество пробелов в строке: 8\n",
      "Количество запятых в строке: 2\n"
     ]
    }
   ],
   "source": [
    "s = 'The ultimate question of life, the universe, and everything'\n",
    "number_of_spaces = 0\n",
    "number_of_commas = 0\n",
    "\n",
    "for c in s:\n",
    "    if c == ' ':\n",
    "        number_of_spaces += 1\n",
    "    elif c == ',':\n",
    "        number_of_commas += 1\n",
    "\n",
    "print('Количество пробелов в строке:', number_of_spaces)\n",
    "print('Количество запятых в строке:', number_of_commas)"
   ]
  },
  {
   "cell_type": "markdown",
   "id": "655bda71",
   "metadata": {},
   "source": [
    "### Более сложный цикл..."
   ]
  },
  {
   "cell_type": "code",
   "execution_count": 28,
   "id": "1979540f",
   "metadata": {},
   "outputs": [
    {
     "name": "stdout",
     "output_type": "stream",
     "text": [
      "Символ найден. Индекс: 35\n"
     ]
    }
   ],
   "source": [
    "s = 'spam, spom, spam, spam… lovely spam! wonderful spam!'\n",
    "char = '!'  # символ, который нужно найти\n",
    "\n",
    "# перебираем поочередно все символы в строке\n",
    "# j это номер символа в строке, начиная с 0\n",
    "j = 0\n",
    "for c in s:\n",
    "    if c == char:\n",
    "        # если символ совпал, дальше не ищем, а сразу выходим из цикла\n",
    "        print('Символ найден. Индекс:', j)\n",
    "        break\n",
    "    j += 1\n",
    "else:\n",
    "    # если символ не встретился, break не выполнится, а ветка else выполнится\n",
    "    print('строка не найдена')"
   ]
  },
  {
   "cell_type": "markdown",
   "id": "8142fd32",
   "metadata": {},
   "source": [
    "### Функции"
   ]
  },
  {
   "cell_type": "code",
   "execution_count": 29,
   "id": "76c9c45c",
   "metadata": {},
   "outputs": [
    {
     "name": "stdout",
     "output_type": "stream",
     "text": [
      "8\n",
      "16\n"
     ]
    }
   ],
   "source": [
    "# Функция foo принимает три позиционных аргумента a, b и c\n",
    "def foo(a, b, c):\n",
    "    return 2 * a + b * c\n",
    "\n",
    "# вызвать функцию можно передав значения через запятую\n",
    "print(foo(1, 2, 3))\n",
    "\n",
    "# можно явно указать имена и значения\n",
    "print(foo(a=3, b=2, c=5))"
   ]
  },
  {
   "cell_type": "code",
   "execution_count": 30,
   "id": "e4596a3c",
   "metadata": {},
   "outputs": [
    {
     "name": "stdout",
     "output_type": "stream",
     "text": [
      "1\n",
      "7\n",
      "8\n"
     ]
    }
   ],
   "source": [
    "def foo(a, b, c=0):\n",
    "    return a + 3 * b - 2 * c\n",
    "\n",
    "# значения передаются поочередно, c будет равно 3\n",
    "print(foo(1, 2, 3))\n",
    "\n",
    "# если у ключевых аргументов указано значение по умолчанию,\n",
    "# его можно не передавать\n",
    "print(foo(1, 2))\n",
    "\n",
    "# можно явно указывать значения у ключевых аргументов\n",
    "print(foo(10, 2, c=4))"
   ]
  },
  {
   "cell_type": "markdown",
   "id": "6348aa53",
   "metadata": {},
   "source": [
    "### Встроенные функции"
   ]
  },
  {
   "cell_type": "code",
   "execution_count": 31,
   "id": "d81f44cc",
   "metadata": {},
   "outputs": [
    {
     "name": "stdout",
     "output_type": "stream",
     "text": [
      "abs: 5\n",
      "chr: ё\n",
      "ord: 68\n",
      "max: 20\n",
      "min: 0\n",
      "--------------------------------------------------\n",
      "Help on built-in function abs in module builtins:\n",
      "\n",
      "abs(x, /)\n",
      "    Return the absolute value of the argument.\n",
      "\n",
      "help: None\n"
     ]
    }
   ],
   "source": [
    "# модуль числа\n",
    "print('abs:', abs(-5))\n",
    "\n",
    "# получение символа по коду Unicode\n",
    "print('chr:', chr(1105))\n",
    "# обратная chr, получения кода по символу\n",
    "print('ord:', ord('D'))\n",
    "\n",
    "# максимум, принимают хотябы два аргумента\n",
    "print('max:', max(1, 20, 3, 6, 1, 0))\n",
    "# минимум\n",
    "print('min:', min(1, 20, 3, 6, 1, 0))\n",
    "\n",
    "print('-' * 50)\n",
    "# получение справки об объекте\n",
    "print('help:', help(abs))"
   ]
  },
  {
   "cell_type": "markdown",
   "id": "5c0ce278",
   "metadata": {},
   "source": [
    "### Списки"
   ]
  },
  {
   "cell_type": "code",
   "execution_count": 32,
   "id": "947442e8",
   "metadata": {},
   "outputs": [
    {
     "name": "stdout",
     "output_type": "stream",
     "text": [
      "xs = [42, 42.0, 'foo_bar', [1, 2, 3], None, False]\n",
      "len(xs) = 6\n",
      "xs + ys = [1, 2, 3, 4, 5, 6, 7]\n",
      "3 * xs = [1, 2, 3, 4, 1, 2, 3, 4, 1, 2, 3, 4]\n"
     ]
    }
   ],
   "source": [
    "xs = [42, 42., 'foo_bar', [1, 2, 3], None, False]\n",
    "print(f'{xs = }')\n",
    "print(f'{len(xs) = }')\n",
    "\n",
    "xs = [1, 2, 3, 4]\n",
    "ys = [5, 6, 7]\n",
    "print(f'{xs + ys = }')\n",
    "print(f'{3 * xs = }')"
   ]
  },
  {
   "cell_type": "code",
   "execution_count": 33,
   "id": "d995ccd7",
   "metadata": {},
   "outputs": [
    {
     "name": "stdout",
     "output_type": "stream",
     "text": [
      "(1): xs = [1, 2, 3, 4, 42]\n",
      "(2): x = 42, xs = [1, 2, 3, 4]\n",
      "(3): x = 3, xs = [1, 2, 4]\n",
      "(4): xs = [1, 2]\n",
      "(5): xs = [1, 196, 2]\n",
      "(6): xs = [1, 196, 2, 5, 6, 7]\n",
      "xs = [7, 6, 5, 2, 196, 1]\n"
     ]
    }
   ],
   "source": [
    "xs = [1, 2, 3, 4]\n",
    "ys = [5, 6, 7]\n",
    "\n",
    "xs.append(42)\n",
    "print(f'(1): {xs = }')\n",
    "\n",
    "# метод pop удобен, когда нужно использовать удаленный элемент\n",
    "x = xs.pop()\n",
    "print(f'(2): {x = }, {xs = }')\n",
    "x = xs.pop(2)\n",
    "print(f'(3): {x = }, {xs = }')\n",
    "\n",
    "# еще один способ удалить элемент по индексу\n",
    "del xs[2]\n",
    "print(f'(4): {xs = }')\n",
    "\n",
    "xs.insert(1, 196)\n",
    "print(f'(5): {xs = }')\n",
    "\n",
    "xs.extend(ys)\n",
    "print(f'(6): {xs = }')\n",
    "\n",
    "xs.reverse()\n",
    "print(f'{xs = }')"
   ]
  },
  {
   "cell_type": "code",
   "execution_count": 34,
   "id": "04fb6350",
   "metadata": {},
   "outputs": [
    {
     "name": "stdout",
     "output_type": "stream",
     "text": [
      "4 in xs = True\n",
      "xs.count(3) = 3\n",
      "xs.index(3) = 1\n"
     ]
    }
   ],
   "source": [
    "xs = [1, 3, 2, 3, 3, 4]\n",
    "print(f'{4 in xs = }')\n",
    "print(f'{xs.count(3) = }')\n",
    "print(f'{xs.index(3) = }')"
   ]
  },
  {
   "cell_type": "code",
   "execution_count": 35,
   "id": "a0e5e5d7",
   "metadata": {},
   "outputs": [
    {
     "name": "stdout",
     "output_type": "stream",
     "text": [
      "xs = ['m', 'o', 'n', 't', 'y', '_', 'p', 'y', 't', 'h', 'o', 'n']\n",
      "xs[0] = 'm'\n",
      "xs[5] = '_'\n",
      "xs[-1] = 'n'\n",
      "xs[-7] = '_'\n"
     ]
    }
   ],
   "source": [
    "xs = list('monty_python')\n",
    "print(f'{xs = }')\n",
    "print(f'{xs[0] = }')\n",
    "print(f'{xs[5] = }')\n",
    "print(f'{xs[-1] = }')\n",
    "print(f'{xs[-7] = }')"
   ]
  },
  {
   "cell_type": "code",
   "execution_count": 36,
   "id": "d5ad0922",
   "metadata": {},
   "outputs": [
    {
     "name": "stdout",
     "output_type": "stream",
     "text": [
      "xs = ['m', 'o', 'n', 't', 'y', '_', 'p', 'y', 't', 'h', 'o', 'n']\n",
      "xs[:] = ['m', 'o', 'n', 't', 'y', '_', 'p', 'y', 't', 'h', 'o', 'n']\n",
      "xs[::-1] = ['n', 'o', 'h', 't', 'y', 'p', '_', 'y', 't', 'n', 'o', 'm']\n",
      "xs[:5] = ['m', 'o', 'n', 't', 'y']\n",
      "xs[6:] = ['p', 'y', 't', 'h', 'o', 'n']\n",
      "xs[3:7] = ['t', 'y', '_', 'p']\n",
      "xs[3:8:2] = ['t', '_', 'y']\n",
      "xs[4::-1] = ['y', 't', 'n', 'o', 'm']\n"
     ]
    }
   ],
   "source": [
    "xs = list('monty_python')\n",
    "print(f'{xs = }')\n",
    "print(f'{xs[:] = }')\n",
    "print(f'{xs[::-1] = }')\n",
    "print(f'{xs[:5] = }')\n",
    "print(f'{xs[6:] = }')\n",
    "print(f'{xs[3:7] = }')\n",
    "print(f'{xs[3:8:2] = }')\n",
    "print(f'{xs[4::-1] = }')"
   ]
  },
  {
   "cell_type": "code",
   "execution_count": 37,
   "id": "33ea80d7",
   "metadata": {},
   "outputs": [
    {
     "name": "stdout",
     "output_type": "stream",
     "text": [
      "[1]\n",
      "[2, 3]\n",
      "[3, 4, 5]\n",
      "[4, 5, 6, 7]\n",
      "[5, 6, 7, 8, 9]\n",
      "xs[0][0] = 1\n",
      "xs[-1][-1] = 9\n"
     ]
    }
   ],
   "source": [
    "xs = []\n",
    "\n",
    "for i in range(5):\n",
    "    ys = []\n",
    "    for j in range(i + 1):\n",
    "        ys.append(j + i + 1)\n",
    "    xs.append(ys)\n",
    "\n",
    "for l in xs:\n",
    "    print(l)\n",
    "\n",
    "print(f'{xs[0][0] = }')\n",
    "print(f'{xs[-1][-1] = }')"
   ]
  },
  {
   "cell_type": "code",
   "execution_count": 38,
   "id": "dc7b9e06",
   "metadata": {},
   "outputs": [
    {
     "name": "stdout",
     "output_type": "stream",
     "text": [
      "4\n",
      "3\n",
      "2\n",
      "1\n"
     ]
    }
   ],
   "source": [
    "xs = [4, 3, 2, 1]\n",
    "\n",
    "for x in xs:\n",
    "    print(x)"
   ]
  },
  {
   "cell_type": "code",
   "execution_count": 39,
   "id": "baa3e1b8",
   "metadata": {},
   "outputs": [
    {
     "name": "stdout",
     "output_type": "stream",
     "text": [
      "xs[0] = 4\n",
      "xs[1] = 3\n",
      "xs[2] = 2\n",
      "xs[3] = 1\n"
     ]
    }
   ],
   "source": [
    "xs = [4, 3, 2, 1]\n",
    "\n",
    "for i, x in enumerate(xs):\n",
    "    print(f'xs[{i}] = {x}')"
   ]
  },
  {
   "cell_type": "markdown",
   "id": "a9b2ebf4",
   "metadata": {},
   "source": [
    "### Словари"
   ]
  },
  {
   "cell_type": "code",
   "execution_count": 40,
   "id": "d93bc455",
   "metadata": {},
   "outputs": [
    {
     "name": "stdout",
     "output_type": "stream",
     "text": [
      "d = {'a': 42, 'b': 2}\n"
     ]
    }
   ],
   "source": [
    "d = {'a': 1, 'b': 2, 'a': 42}\n",
    "print(f'{d = }')"
   ]
  },
  {
   "cell_type": "code",
   "execution_count": 41,
   "id": "4f8ddcfc",
   "metadata": {},
   "outputs": [
    {
     "name": "stdout",
     "output_type": "stream",
     "text": [
      "d = {'a': 1, 'b': 1, 'c': 1}\n",
      "len(d) = 3\n",
      "d[\"a\"] = 1\n",
      "d.get(\"c\") = 22\n",
      "\"a\" in d = True\n",
      "\"c\" in d = True\n",
      "\"g\" not in d = True\n"
     ]
    }
   ],
   "source": [
    "d = dict.fromkeys('abc', 1)\n",
    "print(f'{d = }')\n",
    "\n",
    "print(f'{len(d) = }')\n",
    "print(f'{d[\"a\"] = }')\n",
    "\n",
    "d[\"c\"] = 22\n",
    "print(f'{d.get(\"c\") = }')\n",
    "\n",
    "\n",
    "print(f'{\"a\" in d = }')\n",
    "print(f'{\"c\" in d = }')\n",
    "print(f'{\"g\" not in d = }')"
   ]
  },
  {
   "cell_type": "code",
   "execution_count": 42,
   "id": "dd0765c3",
   "metadata": {},
   "outputs": [
    {
     "name": "stdout",
     "output_type": "stream",
     "text": [
      "d.keys() = dict_keys(['a', 'b', 'c'])\n",
      "d.values() = dict_values([1, 2, 3])\n",
      "d.items() = dict_items([('a', 1), ('b', 2), ('c', 3)])\n"
     ]
    }
   ],
   "source": [
    "d = {'a': 1, 'b': 2, 'c': 3}\n",
    "print(f'{d.keys() = }')\n",
    "print(f'{d.values() = }')\n",
    "print(f'{d.items() = }')"
   ]
  },
  {
   "cell_type": "code",
   "execution_count": 43,
   "id": "3fa21732",
   "metadata": {},
   "outputs": [
    {
     "name": "stdout",
     "output_type": "stream",
     "text": [
      "sorted(d.keys(), reverse=True) = ['c', 'b', 'a']\n",
      "sorted(d.values()) = [1, 2, 3]\n",
      "sorted(d.items(), reverse=True) = [('c', 1), ('b', 2), ('a', 3)]\n"
     ]
    }
   ],
   "source": [
    "d = {'a': 3, 'b': 2, 'c': 1}\n",
    "print(f'{sorted(d.keys(), reverse=True) = }')\n",
    "print(f'{sorted(d.values()) = }')\n",
    "print(f'{sorted(d.items(), reverse=True) = }')"
   ]
  },
  {
   "cell_type": "code",
   "execution_count": 44,
   "id": "21c9432a",
   "metadata": {},
   "outputs": [
    {
     "name": "stdout",
     "output_type": "stream",
     "text": [
      "sorted(d.items(), key=foo) = [('a', 3), ('b', 2), ('c', 1)]\n"
     ]
    }
   ],
   "source": [
    "d = {'a': 3, 'b': 2, 'c': 1}\n",
    "\n",
    "# функция принимает элемент коллекции, т.е. кортеж \n",
    "# из двух элементов, и возвращает второй его элемет.\n",
    "def foo(x):\n",
    "    return x[0]\n",
    "\n",
    "# сортировка пар словаря по значению\n",
    "print(f'{sorted(d.items(), key=foo) = }')"
   ]
  },
  {
   "cell_type": "markdown",
   "id": "24c79d38",
   "metadata": {},
   "source": [
    "### Tuple &  set"
   ]
  },
  {
   "cell_type": "code",
   "execution_count": 45,
   "id": "049897e4",
   "metadata": {},
   "outputs": [
    {
     "ename": "TypeError",
     "evalue": "'tuple' object does not support item assignment",
     "output_type": "error",
     "traceback": [
      "\u001b[0;31m---------------------------------------------------------------------------\u001b[0m",
      "\u001b[0;31mTypeError\u001b[0m                                 Traceback (most recent call last)",
      "Cell \u001b[0;32mIn [45], line 2\u001b[0m\n\u001b[1;32m      1\u001b[0m a \u001b[38;5;241m=\u001b[39m (\u001b[38;5;241m1\u001b[39m, \u001b[38;5;241m2\u001b[39m, [\u001b[38;5;241m42\u001b[39m])\n\u001b[0;32m----> 2\u001b[0m \u001b[43ma\u001b[49m\u001b[43m[\u001b[49m\u001b[38;5;241;43m-\u001b[39;49m\u001b[38;5;241;43m1\u001b[39;49m\u001b[43m]\u001b[49m \u001b[38;5;241m=\u001b[39m \u001b[38;5;241m0\u001b[39m\n",
      "\u001b[0;31mTypeError\u001b[0m: 'tuple' object does not support item assignment"
     ]
    }
   ],
   "source": [
    "a = (1, 2, [42])\n",
    "a[-1] = 0  # TypeError"
   ]
  },
  {
   "cell_type": "code",
   "execution_count": 48,
   "id": "a4c0239f",
   "metadata": {},
   "outputs": [
    {
     "name": "stdout",
     "output_type": "stream",
     "text": [
      "Длина: len(a) = 4\n",
      "Конкатенация: a + b = (1, 2, 3, 1, 3, 4)\n",
      "Умножение на целочисленную константу: 3 * a = (1, 2, 3, 1, 1, 2, 3, 1, 1, 2, 3, 1)\n",
      "Индексация: a[0] = 1\n",
      "Индексация: a[-2] = 3\n",
      "Срез: (2, 1)\n",
      "Индекс первого вхождения: a.index(1) = 0\n",
      "Подсчет всех вхождений: a.count(1) = 2\n"
     ]
    }
   ],
   "source": [
    "a = (1, 2, 3, 1)\n",
    "b = 3, 4\n",
    "\n",
    "print(f'Длина: {len(a) = }')\n",
    "print(f'Конкатенация: {a + b = }')\n",
    "print(f'Умножение на целочисленную константу: {3 * a = }')\n",
    "print(f'Индексация: {a[0] = }')\n",
    "print(f'Индексация: {a[-2] = }')\n",
    "print(f'Срез: {a[1::-1]}')\n",
    "print(f'Индекс первого вхождения: {a.index(1) = }')\n",
    "print(f'Подсчет всех вхождений: {a.count(1) = }')"
   ]
  },
  {
   "cell_type": "code",
   "execution_count": 49,
   "id": "844d8ca9",
   "metadata": {},
   "outputs": [
    {
     "name": "stdout",
     "output_type": "stream",
     "text": [
      "set(a) = {3, 1, 42, 2}\n"
     ]
    }
   ],
   "source": [
    "a = [42, 1, 2, 1, 3, 1, 2]\n",
    "print(f'{set(a) = }')"
   ]
  },
  {
   "cell_type": "code",
   "execution_count": 50,
   "id": "bd23c083",
   "metadata": {},
   "outputs": [
    {
     "name": "stdout",
     "output_type": "stream",
     "text": [
      "Пересечение: a & b = {3, 4}\n",
      "Пересечение: a.intersection(b) = {3, 4}\n",
      "Разность: a - b = {1, 2}\n"
     ]
    }
   ],
   "source": [
    "a = {1, 2, 3, 4}\n",
    "b = {3, 4, 5, 6}\n",
    "\n",
    "print(f'Пересечение: {a & b = }')  # a и b должны быть типа set\n",
    "# a должна быть типа set, b любой итерируемый объект, может \n",
    "# принимать любое количество аргументов.\n",
    "print(f'Пересечение: {a.intersection(b) = }')\n",
    "print(f'Разность: {a - b = }')"
   ]
  },
  {
   "cell_type": "markdown",
   "id": "a3f3caaa",
   "metadata": {},
   "source": [
    "# Поговорим про анализ данных"
   ]
  },
  {
   "cell_type": "markdown",
   "id": "7e2b519c",
   "metadata": {},
   "source": [
    "### Стать программистом 300к/секунду? Очень просто:"
   ]
  },
  {
   "cell_type": "code",
   "execution_count": 54,
   "id": "22ee381b-d5af-4019-9c68-98fa9c492da2",
   "metadata": {},
   "outputs": [
    {
     "name": "stdout",
     "output_type": "stream",
     "text": [
      "Defaulting to user installation because normal site-packages is not writeable\n",
      "Collecting numpy\n",
      "  Downloading numpy-1.23.3-cp310-cp310-manylinux_2_17_x86_64.manylinux2014_x86_64.whl (17.1 MB)\n",
      "\u001b[2K     \u001b[38;2;114;156;31m━━━━━━━━━━━━━━━━━━━━━━━━━━━━━━━━━━━━━━━\u001b[0m \u001b[32m17.1/17.1 MB\u001b[0m \u001b[31m878.0 kB/s\u001b[0m eta \u001b[36m0:00:00\u001b[0mm eta \u001b[36m0:00:01\u001b[0m[36m0:00:01\u001b[0m\n",
      "\u001b[?25hInstalling collected packages: numpy\n",
      "\u001b[33m  WARNING: The scripts f2py, f2py3 and f2py3.10 are installed in '/home/alex/.local/bin' which is not on PATH.\n",
      "  Consider adding this directory to PATH or, if you prefer to suppress this warning, use --no-warn-script-location.\u001b[0m\u001b[33m\n",
      "\u001b[0mSuccessfully installed numpy-1.23.3\n"
     ]
    }
   ],
   "source": [
    "!pip install numpy"
   ]
  },
  {
   "cell_type": "code",
   "execution_count": 1,
   "id": "7c02ae40",
   "metadata": {},
   "outputs": [],
   "source": [
    "import numpy as np\n",
    "import pandas as pd"
   ]
  },
  {
   "cell_type": "code",
   "execution_count": 2,
   "id": "b9121696",
   "metadata": {},
   "outputs": [
    {
     "ename": "FileNotFoundError",
     "evalue": "[Errno 2] No such file or directory: 'data_3_course.xlsx'",
     "output_type": "error",
     "traceback": [
      "\u001b[0;31m---------------------------------------------------------------------------\u001b[0m",
      "\u001b[0;31mFileNotFoundError\u001b[0m                         Traceback (most recent call last)",
      "Cell \u001b[0;32mIn [2], line 1\u001b[0m\n\u001b[0;32m----> 1\u001b[0m data3 \u001b[38;5;241m=\u001b[39m \u001b[43mpd\u001b[49m\u001b[38;5;241;43m.\u001b[39;49m\u001b[43mread_excel\u001b[49m\u001b[43m(\u001b[49m\u001b[38;5;124;43m'\u001b[39;49m\u001b[38;5;124;43mdata_3_course.xlsx\u001b[39;49m\u001b[38;5;124;43m'\u001b[39;49m\u001b[43m)\u001b[49m\n\u001b[1;32m      2\u001b[0m data4 \u001b[38;5;241m=\u001b[39m pd\u001b[38;5;241m.\u001b[39mread_excel(\u001b[38;5;124m'\u001b[39m\u001b[38;5;124mdata_4_course.xlsx\u001b[39m\u001b[38;5;124m'\u001b[39m)\n",
      "File \u001b[0;32m~/Documents/ml/.venv/lib/python3.10/site-packages/pandas/util/_decorators.py:311\u001b[0m, in \u001b[0;36mdeprecate_nonkeyword_arguments.<locals>.decorate.<locals>.wrapper\u001b[0;34m(*args, **kwargs)\u001b[0m\n\u001b[1;32m    305\u001b[0m \u001b[38;5;28;01mif\u001b[39;00m \u001b[38;5;28mlen\u001b[39m(args) \u001b[38;5;241m>\u001b[39m num_allow_args:\n\u001b[1;32m    306\u001b[0m     warnings\u001b[38;5;241m.\u001b[39mwarn(\n\u001b[1;32m    307\u001b[0m         msg\u001b[38;5;241m.\u001b[39mformat(arguments\u001b[38;5;241m=\u001b[39marguments),\n\u001b[1;32m    308\u001b[0m         \u001b[38;5;167;01mFutureWarning\u001b[39;00m,\n\u001b[1;32m    309\u001b[0m         stacklevel\u001b[38;5;241m=\u001b[39mstacklevel,\n\u001b[1;32m    310\u001b[0m     )\n\u001b[0;32m--> 311\u001b[0m \u001b[38;5;28;01mreturn\u001b[39;00m \u001b[43mfunc\u001b[49m\u001b[43m(\u001b[49m\u001b[38;5;241;43m*\u001b[39;49m\u001b[43margs\u001b[49m\u001b[43m,\u001b[49m\u001b[43m \u001b[49m\u001b[38;5;241;43m*\u001b[39;49m\u001b[38;5;241;43m*\u001b[39;49m\u001b[43mkwargs\u001b[49m\u001b[43m)\u001b[49m\n",
      "File \u001b[0;32m~/Documents/ml/.venv/lib/python3.10/site-packages/pandas/io/excel/_base.py:457\u001b[0m, in \u001b[0;36mread_excel\u001b[0;34m(io, sheet_name, header, names, index_col, usecols, squeeze, dtype, engine, converters, true_values, false_values, skiprows, nrows, na_values, keep_default_na, na_filter, verbose, parse_dates, date_parser, thousands, decimal, comment, skipfooter, convert_float, mangle_dupe_cols, storage_options)\u001b[0m\n\u001b[1;32m    455\u001b[0m \u001b[38;5;28;01mif\u001b[39;00m \u001b[38;5;129;01mnot\u001b[39;00m \u001b[38;5;28misinstance\u001b[39m(io, ExcelFile):\n\u001b[1;32m    456\u001b[0m     should_close \u001b[38;5;241m=\u001b[39m \u001b[38;5;28;01mTrue\u001b[39;00m\n\u001b[0;32m--> 457\u001b[0m     io \u001b[38;5;241m=\u001b[39m \u001b[43mExcelFile\u001b[49m\u001b[43m(\u001b[49m\u001b[43mio\u001b[49m\u001b[43m,\u001b[49m\u001b[43m \u001b[49m\u001b[43mstorage_options\u001b[49m\u001b[38;5;241;43m=\u001b[39;49m\u001b[43mstorage_options\u001b[49m\u001b[43m,\u001b[49m\u001b[43m \u001b[49m\u001b[43mengine\u001b[49m\u001b[38;5;241;43m=\u001b[39;49m\u001b[43mengine\u001b[49m\u001b[43m)\u001b[49m\n\u001b[1;32m    458\u001b[0m \u001b[38;5;28;01melif\u001b[39;00m engine \u001b[38;5;129;01mand\u001b[39;00m engine \u001b[38;5;241m!=\u001b[39m io\u001b[38;5;241m.\u001b[39mengine:\n\u001b[1;32m    459\u001b[0m     \u001b[38;5;28;01mraise\u001b[39;00m \u001b[38;5;167;01mValueError\u001b[39;00m(\n\u001b[1;32m    460\u001b[0m         \u001b[38;5;124m\"\u001b[39m\u001b[38;5;124mEngine should not be specified when passing \u001b[39m\u001b[38;5;124m\"\u001b[39m\n\u001b[1;32m    461\u001b[0m         \u001b[38;5;124m\"\u001b[39m\u001b[38;5;124man ExcelFile - ExcelFile already has the engine set\u001b[39m\u001b[38;5;124m\"\u001b[39m\n\u001b[1;32m    462\u001b[0m     )\n",
      "File \u001b[0;32m~/Documents/ml/.venv/lib/python3.10/site-packages/pandas/io/excel/_base.py:1376\u001b[0m, in \u001b[0;36mExcelFile.__init__\u001b[0;34m(self, path_or_buffer, engine, storage_options)\u001b[0m\n\u001b[1;32m   1374\u001b[0m     ext \u001b[38;5;241m=\u001b[39m \u001b[38;5;124m\"\u001b[39m\u001b[38;5;124mxls\u001b[39m\u001b[38;5;124m\"\u001b[39m\n\u001b[1;32m   1375\u001b[0m \u001b[38;5;28;01melse\u001b[39;00m:\n\u001b[0;32m-> 1376\u001b[0m     ext \u001b[38;5;241m=\u001b[39m \u001b[43minspect_excel_format\u001b[49m\u001b[43m(\u001b[49m\n\u001b[1;32m   1377\u001b[0m \u001b[43m        \u001b[49m\u001b[43mcontent_or_path\u001b[49m\u001b[38;5;241;43m=\u001b[39;49m\u001b[43mpath_or_buffer\u001b[49m\u001b[43m,\u001b[49m\u001b[43m \u001b[49m\u001b[43mstorage_options\u001b[49m\u001b[38;5;241;43m=\u001b[39;49m\u001b[43mstorage_options\u001b[49m\n\u001b[1;32m   1378\u001b[0m \u001b[43m    \u001b[49m\u001b[43m)\u001b[49m\n\u001b[1;32m   1379\u001b[0m     \u001b[38;5;28;01mif\u001b[39;00m ext \u001b[38;5;129;01mis\u001b[39;00m \u001b[38;5;28;01mNone\u001b[39;00m:\n\u001b[1;32m   1380\u001b[0m         \u001b[38;5;28;01mraise\u001b[39;00m \u001b[38;5;167;01mValueError\u001b[39;00m(\n\u001b[1;32m   1381\u001b[0m             \u001b[38;5;124m\"\u001b[39m\u001b[38;5;124mExcel file format cannot be determined, you must specify \u001b[39m\u001b[38;5;124m\"\u001b[39m\n\u001b[1;32m   1382\u001b[0m             \u001b[38;5;124m\"\u001b[39m\u001b[38;5;124man engine manually.\u001b[39m\u001b[38;5;124m\"\u001b[39m\n\u001b[1;32m   1383\u001b[0m         )\n",
      "File \u001b[0;32m~/Documents/ml/.venv/lib/python3.10/site-packages/pandas/io/excel/_base.py:1250\u001b[0m, in \u001b[0;36minspect_excel_format\u001b[0;34m(content_or_path, storage_options)\u001b[0m\n\u001b[1;32m   1247\u001b[0m \u001b[38;5;28;01mif\u001b[39;00m \u001b[38;5;28misinstance\u001b[39m(content_or_path, \u001b[38;5;28mbytes\u001b[39m):\n\u001b[1;32m   1248\u001b[0m     content_or_path \u001b[38;5;241m=\u001b[39m BytesIO(content_or_path)\n\u001b[0;32m-> 1250\u001b[0m \u001b[38;5;28;01mwith\u001b[39;00m \u001b[43mget_handle\u001b[49m\u001b[43m(\u001b[49m\n\u001b[1;32m   1251\u001b[0m \u001b[43m    \u001b[49m\u001b[43mcontent_or_path\u001b[49m\u001b[43m,\u001b[49m\u001b[43m \u001b[49m\u001b[38;5;124;43m\"\u001b[39;49m\u001b[38;5;124;43mrb\u001b[39;49m\u001b[38;5;124;43m\"\u001b[39;49m\u001b[43m,\u001b[49m\u001b[43m \u001b[49m\u001b[43mstorage_options\u001b[49m\u001b[38;5;241;43m=\u001b[39;49m\u001b[43mstorage_options\u001b[49m\u001b[43m,\u001b[49m\u001b[43m \u001b[49m\u001b[43mis_text\u001b[49m\u001b[38;5;241;43m=\u001b[39;49m\u001b[38;5;28;43;01mFalse\u001b[39;49;00m\n\u001b[1;32m   1252\u001b[0m \u001b[43m\u001b[49m\u001b[43m)\u001b[49m \u001b[38;5;28;01mas\u001b[39;00m handle:\n\u001b[1;32m   1253\u001b[0m     stream \u001b[38;5;241m=\u001b[39m handle\u001b[38;5;241m.\u001b[39mhandle\n\u001b[1;32m   1254\u001b[0m     stream\u001b[38;5;241m.\u001b[39mseek(\u001b[38;5;241m0\u001b[39m)\n",
      "File \u001b[0;32m~/Documents/ml/.venv/lib/python3.10/site-packages/pandas/io/common.py:795\u001b[0m, in \u001b[0;36mget_handle\u001b[0;34m(path_or_buf, mode, encoding, compression, memory_map, is_text, errors, storage_options)\u001b[0m\n\u001b[1;32m    786\u001b[0m         handle \u001b[38;5;241m=\u001b[39m \u001b[38;5;28mopen\u001b[39m(\n\u001b[1;32m    787\u001b[0m             handle,\n\u001b[1;32m    788\u001b[0m             ioargs\u001b[38;5;241m.\u001b[39mmode,\n\u001b[0;32m   (...)\u001b[0m\n\u001b[1;32m    791\u001b[0m             newline\u001b[38;5;241m=\u001b[39m\u001b[38;5;124m\"\u001b[39m\u001b[38;5;124m\"\u001b[39m,\n\u001b[1;32m    792\u001b[0m         )\n\u001b[1;32m    793\u001b[0m     \u001b[38;5;28;01melse\u001b[39;00m:\n\u001b[1;32m    794\u001b[0m         \u001b[38;5;66;03m# Binary mode\u001b[39;00m\n\u001b[0;32m--> 795\u001b[0m         handle \u001b[38;5;241m=\u001b[39m \u001b[38;5;28;43mopen\u001b[39;49m\u001b[43m(\u001b[49m\u001b[43mhandle\u001b[49m\u001b[43m,\u001b[49m\u001b[43m \u001b[49m\u001b[43mioargs\u001b[49m\u001b[38;5;241;43m.\u001b[39;49m\u001b[43mmode\u001b[49m\u001b[43m)\u001b[49m\n\u001b[1;32m    796\u001b[0m     handles\u001b[38;5;241m.\u001b[39mappend(handle)\n\u001b[1;32m    798\u001b[0m \u001b[38;5;66;03m# Convert BytesIO or file objects passed with an encoding\u001b[39;00m\n",
      "\u001b[0;31mFileNotFoundError\u001b[0m: [Errno 2] No such file or directory: 'data_3_course.xlsx'"
     ]
    }
   ],
   "source": [
    "data3 = pd.read_excel('data_3_course.xlsx')\n",
    "data4 = pd.read_excel('data_4_course.xlsx')"
   ]
  },
  {
   "cell_type": "code",
   "execution_count": null,
   "id": "3146d78c",
   "metadata": {},
   "outputs": [],
   "source": [
    "data3.head(3)"
   ]
  },
  {
   "cell_type": "code",
   "execution_count": null,
   "id": "add8d7c3",
   "metadata": {},
   "outputs": [],
   "source": [
    "data3.shape"
   ]
  },
  {
   "cell_type": "code",
   "execution_count": null,
   "id": "e2e976e0",
   "metadata": {},
   "outputs": [],
   "source": [
    "type(data3)"
   ]
  },
  {
   "cell_type": "code",
   "execution_count": 3,
   "id": "05a380be",
   "metadata": {},
   "outputs": [
    {
     "data": {
      "text/html": [
       "<div>\n",
       "<style scoped>\n",
       "    .dataframe tbody tr th:only-of-type {\n",
       "        vertical-align: middle;\n",
       "    }\n",
       "\n",
       "    .dataframe tbody tr th {\n",
       "        vertical-align: top;\n",
       "    }\n",
       "\n",
       "    .dataframe thead th {\n",
       "        text-align: right;\n",
       "    }\n",
       "</style>\n",
       "<table border=\"1\" class=\"dataframe\">\n",
       "  <thead>\n",
       "    <tr style=\"text-align: right;\">\n",
       "      <th></th>\n",
       "      <th>AAA</th>\n",
       "      <th>BBB</th>\n",
       "      <th>CCC</th>\n",
       "    </tr>\n",
       "  </thead>\n",
       "  <tbody>\n",
       "    <tr>\n",
       "      <th>0</th>\n",
       "      <td>4</td>\n",
       "      <td>10</td>\n",
       "      <td>100</td>\n",
       "    </tr>\n",
       "    <tr>\n",
       "      <th>1</th>\n",
       "      <td>5</td>\n",
       "      <td>20</td>\n",
       "      <td>50</td>\n",
       "    </tr>\n",
       "    <tr>\n",
       "      <th>2</th>\n",
       "      <td>6</td>\n",
       "      <td>30</td>\n",
       "      <td>E</td>\n",
       "    </tr>\n",
       "    <tr>\n",
       "      <th>3</th>\n",
       "      <td>7</td>\n",
       "      <td>40</td>\n",
       "      <td>-50</td>\n",
       "    </tr>\n",
       "  </tbody>\n",
       "</table>\n",
       "</div>"
      ],
      "text/plain": [
       "   AAA  BBB  CCC\n",
       "0    4   10  100\n",
       "1    5   20   50\n",
       "2    6   30    E\n",
       "3    7   40  -50"
      ]
     },
     "execution_count": 3,
     "metadata": {},
     "output_type": "execute_result"
    }
   ],
   "source": [
    "df = pd.DataFrame({'AAA' : [4,5,6,7], \n",
    "                   'BBB' : [10,20,30,40], \n",
    "                   'CCC' : [100,50,'E',-50]})\n",
    "df\n",
    "\n"
   ]
  },
  {
   "cell_type": "code",
   "execution_count": 4,
   "id": "e0dc1389",
   "metadata": {},
   "outputs": [
    {
     "ename": "NameError",
     "evalue": "name 'data3' is not defined",
     "output_type": "error",
     "traceback": [
      "\u001b[0;31m---------------------------------------------------------------------------\u001b[0m",
      "\u001b[0;31mNameError\u001b[0m                                 Traceback (most recent call last)",
      "Cell \u001b[0;32mIn [4], line 1\u001b[0m\n\u001b[0;32m----> 1\u001b[0m \u001b[43mdata3\u001b[49m\u001b[38;5;241m.\u001b[39mcolumns\n",
      "\u001b[0;31mNameError\u001b[0m: name 'data3' is not defined"
     ]
    }
   ],
   "source": [
    "data3.columns"
   ]
  },
  {
   "cell_type": "code",
   "execution_count": 5,
   "id": "43ad0578",
   "metadata": {},
   "outputs": [
    {
     "ename": "NameError",
     "evalue": "name 'data3' is not defined",
     "output_type": "error",
     "traceback": [
      "\u001b[0;31m---------------------------------------------------------------------------\u001b[0m",
      "\u001b[0;31mNameError\u001b[0m                                 Traceback (most recent call last)",
      "Cell \u001b[0;32mIn [5], line 1\u001b[0m\n\u001b[0;32m----> 1\u001b[0m \u001b[43mdata3\u001b[49m\u001b[38;5;241m.\u001b[39mdtypes\n",
      "\u001b[0;31mNameError\u001b[0m: name 'data3' is not defined"
     ]
    }
   ],
   "source": [
    "data3.dtypes"
   ]
  },
  {
   "cell_type": "code",
   "execution_count": 6,
   "id": "92a37b39",
   "metadata": {},
   "outputs": [
    {
     "ename": "NameError",
     "evalue": "name 'data3' is not defined",
     "output_type": "error",
     "traceback": [
      "\u001b[0;31m---------------------------------------------------------------------------\u001b[0m",
      "\u001b[0;31mNameError\u001b[0m                                 Traceback (most recent call last)",
      "Cell \u001b[0;32mIn [6], line 1\u001b[0m\n\u001b[0;32m----> 1\u001b[0m \u001b[43mdata3\u001b[49m\u001b[38;5;241m.\u001b[39mloc[\u001b[38;5;241m2\u001b[39m]\n",
      "\u001b[0;31mNameError\u001b[0m: name 'data3' is not defined"
     ]
    }
   ],
   "source": [
    "data3.loc[2]"
   ]
  },
  {
   "cell_type": "code",
   "execution_count": 7,
   "id": "4a500312",
   "metadata": {},
   "outputs": [
    {
     "ename": "NameError",
     "evalue": "name 'data3' is not defined",
     "output_type": "error",
     "traceback": [
      "\u001b[0;31m---------------------------------------------------------------------------\u001b[0m",
      "\u001b[0;31mNameError\u001b[0m                                 Traceback (most recent call last)",
      "Cell \u001b[0;32mIn [7], line 1\u001b[0m\n\u001b[0;32m----> 1\u001b[0m \u001b[43mdata3\u001b[49m[\u001b[38;5;124m'\u001b[39m\u001b[38;5;124mРейтинг\u001b[39m\u001b[38;5;124m'\u001b[39m]\u001b[38;5;241m.\u001b[39mhead(\u001b[38;5;241m3\u001b[39m)\n",
      "\u001b[0;31mNameError\u001b[0m: name 'data3' is not defined"
     ]
    }
   ],
   "source": [
    "data3['Рейтинг'].head(3)"
   ]
  },
  {
   "cell_type": "code",
   "execution_count": 8,
   "id": "30ee6c16",
   "metadata": {},
   "outputs": [
    {
     "ename": "NameError",
     "evalue": "name 'data3' is not defined",
     "output_type": "error",
     "traceback": [
      "\u001b[0;31m---------------------------------------------------------------------------\u001b[0m",
      "\u001b[0;31mNameError\u001b[0m                                 Traceback (most recent call last)",
      "Cell \u001b[0;32mIn [8], line 1\u001b[0m\n\u001b[0;32m----> 1\u001b[0m \u001b[43mdata3\u001b[49m\u001b[38;5;241m.\u001b[39miloc[\u001b[38;5;241m2\u001b[39m:\u001b[38;5;241m4\u001b[39m]\n",
      "\u001b[0;31mNameError\u001b[0m: name 'data3' is not defined"
     ]
    }
   ],
   "source": [
    "data3.iloc[2:4]"
   ]
  },
  {
   "cell_type": "code",
   "execution_count": 9,
   "id": "754e2ffe",
   "metadata": {},
   "outputs": [
    {
     "ename": "NameError",
     "evalue": "name 'data3' is not defined",
     "output_type": "error",
     "traceback": [
      "\u001b[0;31m---------------------------------------------------------------------------\u001b[0m",
      "\u001b[0;31mNameError\u001b[0m                                 Traceback (most recent call last)",
      "Cell \u001b[0;32mIn [9], line 1\u001b[0m\n\u001b[0;32m----> 1\u001b[0m \u001b[43mdata3\u001b[49m[data3[\u001b[38;5;124m'\u001b[39m\u001b[38;5;124mГруппа (в формате 182)\u001b[39m\u001b[38;5;124m'\u001b[39m] \u001b[38;5;241m==\u001b[39m \u001b[38;5;241m182\u001b[39m]\u001b[38;5;241m.\u001b[39msample(\u001b[38;5;241m3\u001b[39m)\n",
      "\u001b[0;31mNameError\u001b[0m: name 'data3' is not defined"
     ]
    }
   ],
   "source": [
    "data3[data3['Группа (в формате 182)'] == 182].sample(3)"
   ]
  },
  {
   "cell_type": "code",
   "execution_count": 10,
   "id": "c41f9efe",
   "metadata": {},
   "outputs": [
    {
     "ename": "NameError",
     "evalue": "name 'data3' is not defined",
     "output_type": "error",
     "traceback": [
      "\u001b[0;31m---------------------------------------------------------------------------\u001b[0m",
      "\u001b[0;31mNameError\u001b[0m                                 Traceback (most recent call last)",
      "Cell \u001b[0;32mIn [10], line 1\u001b[0m\n\u001b[0;32m----> 1\u001b[0m \u001b[43mdata3\u001b[49m[\u001b[38;5;124m'\u001b[39m\u001b[38;5;124mnew\u001b[39m\u001b[38;5;124m'\u001b[39m] \u001b[38;5;241m=\u001b[39m \u001b[38;5;241m1032023002\u001b[39m\n",
      "\u001b[0;31mNameError\u001b[0m: name 'data3' is not defined"
     ]
    }
   ],
   "source": [
    "data3['new'] = 1032023002"
   ]
  },
  {
   "cell_type": "code",
   "execution_count": 11,
   "id": "5c753c41",
   "metadata": {},
   "outputs": [
    {
     "ename": "NameError",
     "evalue": "name 'data3' is not defined",
     "output_type": "error",
     "traceback": [
      "\u001b[0;31m---------------------------------------------------------------------------\u001b[0m",
      "\u001b[0;31mNameError\u001b[0m                                 Traceback (most recent call last)",
      "Cell \u001b[0;32mIn [11], line 1\u001b[0m\n\u001b[0;32m----> 1\u001b[0m \u001b[43mdata3\u001b[49m\u001b[38;5;241m.\u001b[39mhead(\u001b[38;5;241m2\u001b[39m)\n",
      "\u001b[0;31mNameError\u001b[0m: name 'data3' is not defined"
     ]
    }
   ],
   "source": [
    "data3.head(2)"
   ]
  },
  {
   "cell_type": "code",
   "execution_count": null,
   "id": "89fe74ce",
   "metadata": {},
   "outputs": [],
   "source": [
    "data3 = data3.drop(columns=['new'])\n",
    "data3.head(2)"
   ]
  },
  {
   "cell_type": "code",
   "execution_count": null,
   "id": "4362b9db",
   "metadata": {},
   "outputs": [],
   "source": [
    "data3['Рейтинг'].describe()"
   ]
  },
  {
   "cell_type": "code",
   "execution_count": null,
   "id": "abd786b4",
   "metadata": {},
   "outputs": [],
   "source": [
    "data3['Рейтинг'] = data3['Рейтинг'].apply(lambda x: float(str(x).replace(',', '.')))"
   ]
  },
  {
   "cell_type": "code",
   "execution_count": null,
   "id": "c83b0921",
   "metadata": {},
   "outputs": [],
   "source": [
    "data3['Рейтинг'].describe()"
   ]
  },
  {
   "cell_type": "code",
   "execution_count": null,
   "id": "c960e41d",
   "metadata": {},
   "outputs": [],
   "source": [
    "data4['Рейтинг'] = data4['Рейтинг'].apply(lambda x: float(str(x).replace(',', '.')))\n",
    "data4['Рейтинг'].describe()"
   ]
  },
  {
   "cell_type": "code",
   "execution_count": null,
   "id": "157c63cf",
   "metadata": {},
   "outputs": [],
   "source": [
    "data = pd.concat([data3, data4])\n",
    "data.head()"
   ]
  },
  {
   "cell_type": "code",
   "execution_count": null,
   "id": "a94fa7aa",
   "metadata": {},
   "outputs": [],
   "source": [
    "data.rename(columns={'Timestamp':'timestamp',\n",
    "                     'ID':'id',\n",
    "                     'Рейтинг':'rating',\n",
    "                     'МИ?':'is_mi',\n",
    "                     'Группа (в формате 182)':'18_group',\n",
    "                     'Группа (в формате 173)':'17_group',\n",
    "                     'Осенний курс по выбору, приоритет 1':'fall_1',\n",
    "                     'Осенний курс по выбору, приоритет 2':'fall_2',\n",
    "                     'Осенний курс по выбору, приоритет 3':'fall_3',\n",
    "                     'Весенний курс по выбору, приоритет 1':'spring_1',\n",
    "                     'Весенний курс по выбору, приоритет 2':'spring_2',\n",
    "                     'Весенний курс по выбору, приоритет 3':'spring_3',\n",
    "                     'Вы заполняете анкету в первый раз?':'is_first_time',\n",
    "                     'blended-курс':'blended'},\n",
    "           inplace=True)"
   ]
  },
  {
   "cell_type": "code",
   "execution_count": null,
   "id": "599a203c",
   "metadata": {},
   "outputs": [],
   "source": [
    "data.isna().sum()"
   ]
  },
  {
   "cell_type": "code",
   "execution_count": null,
   "id": "f848ce9e",
   "metadata": {},
   "outputs": [],
   "source": [
    "data.groupby('fall_1').count()[['id', 'is_mi']]"
   ]
  },
  {
   "cell_type": "code",
   "execution_count": null,
   "id": "2e9b9f86-5ba4-4b82-801c-2014ba08b920",
   "metadata": {},
   "outputs": [],
   "source": []
  },
  {
   "cell_type": "code",
   "execution_count": null,
   "id": "40ddfdbc-415e-4c91-b074-a303a8955b57",
   "metadata": {},
   "outputs": [],
   "source": []
  }
 ],
 "metadata": {
  "kernelspec": {
   "display_name": "Python 3 (ipykernel)",
   "language": "python",
   "name": "python3"
  },
  "language_info": {
   "codemirror_mode": {
    "name": "ipython",
    "version": 3
   },
   "file_extension": ".py",
   "mimetype": "text/x-python",
   "name": "python",
   "nbconvert_exporter": "python",
   "pygments_lexer": "ipython3",
   "version": "3.10.6"
  }
 },
 "nbformat": 4,
 "nbformat_minor": 5
}
