{
 "cells": [
  {
   "cell_type": "markdown",
   "metadata": {},
   "source": [
    "# hw 1\n",
    "## Shadrunov Aleksey, BIB201"
   ]
  },
  {
   "cell_type": "markdown",
   "metadata": {},
   "source": [
    "## task 1"
   ]
  },
  {
   "cell_type": "code",
   "execution_count": 87,
   "metadata": {},
   "outputs": [],
   "source": [
    "import pandas as pd\n",
    "\n",
    "titanic = pd.read_csv('https://raw.githubusercontent.com/datasciencedojo/datasets/master/titanic.csv')"
   ]
  },
  {
   "cell_type": "markdown",
   "metadata": {},
   "source": [
    "Какое количество мужчин и женщин ехало на корабле?"
   ]
  },
  {
   "cell_type": "code",
   "execution_count": 88,
   "metadata": {},
   "outputs": [
    {
     "data": {
      "text/html": [
       "<div>\n",
       "<style scoped>\n",
       "    .dataframe tbody tr th:only-of-type {\n",
       "        vertical-align: middle;\n",
       "    }\n",
       "\n",
       "    .dataframe tbody tr th {\n",
       "        vertical-align: top;\n",
       "    }\n",
       "\n",
       "    .dataframe thead th {\n",
       "        text-align: right;\n",
       "    }\n",
       "</style>\n",
       "<table border=\"1\" class=\"dataframe\">\n",
       "  <thead>\n",
       "    <tr style=\"text-align: right;\">\n",
       "      <th></th>\n",
       "      <th>PassengerId</th>\n",
       "      <th>Survived</th>\n",
       "      <th>Pclass</th>\n",
       "      <th>Name</th>\n",
       "      <th>Sex</th>\n",
       "      <th>Age</th>\n",
       "      <th>SibSp</th>\n",
       "      <th>Parch</th>\n",
       "      <th>Ticket</th>\n",
       "      <th>Fare</th>\n",
       "      <th>Cabin</th>\n",
       "      <th>Embarked</th>\n",
       "    </tr>\n",
       "  </thead>\n",
       "  <tbody>\n",
       "    <tr>\n",
       "      <th>0</th>\n",
       "      <td>1</td>\n",
       "      <td>0</td>\n",
       "      <td>3</td>\n",
       "      <td>Braund, Mr. Owen Harris</td>\n",
       "      <td>male</td>\n",
       "      <td>22.0</td>\n",
       "      <td>1</td>\n",
       "      <td>0</td>\n",
       "      <td>A/5 21171</td>\n",
       "      <td>7.2500</td>\n",
       "      <td>NaN</td>\n",
       "      <td>S</td>\n",
       "    </tr>\n",
       "    <tr>\n",
       "      <th>1</th>\n",
       "      <td>2</td>\n",
       "      <td>1</td>\n",
       "      <td>1</td>\n",
       "      <td>Cumings, Mrs. John Bradley (Florence Briggs Th...</td>\n",
       "      <td>female</td>\n",
       "      <td>38.0</td>\n",
       "      <td>1</td>\n",
       "      <td>0</td>\n",
       "      <td>PC 17599</td>\n",
       "      <td>71.2833</td>\n",
       "      <td>C85</td>\n",
       "      <td>C</td>\n",
       "    </tr>\n",
       "    <tr>\n",
       "      <th>2</th>\n",
       "      <td>3</td>\n",
       "      <td>1</td>\n",
       "      <td>3</td>\n",
       "      <td>Heikkinen, Miss. Laina</td>\n",
       "      <td>female</td>\n",
       "      <td>26.0</td>\n",
       "      <td>0</td>\n",
       "      <td>0</td>\n",
       "      <td>STON/O2. 3101282</td>\n",
       "      <td>7.9250</td>\n",
       "      <td>NaN</td>\n",
       "      <td>S</td>\n",
       "    </tr>\n",
       "  </tbody>\n",
       "</table>\n",
       "</div>"
      ],
      "text/plain": [
       "   PassengerId  Survived  Pclass  \\\n",
       "0            1         0       3   \n",
       "1            2         1       1   \n",
       "2            3         1       3   \n",
       "\n",
       "                                                Name     Sex   Age  SibSp  \\\n",
       "0                            Braund, Mr. Owen Harris    male  22.0      1   \n",
       "1  Cumings, Mrs. John Bradley (Florence Briggs Th...  female  38.0      1   \n",
       "2                             Heikkinen, Miss. Laina  female  26.0      0   \n",
       "\n",
       "   Parch            Ticket     Fare Cabin Embarked  \n",
       "0      0         A/5 21171   7.2500   NaN        S  \n",
       "1      0          PC 17599  71.2833   C85        C  \n",
       "2      0  STON/O2. 3101282   7.9250   NaN        S  "
      ]
     },
     "execution_count": 88,
     "metadata": {},
     "output_type": "execute_result"
    }
   ],
   "source": [
    "titanic.head(3)"
   ]
  },
  {
   "cell_type": "code",
   "execution_count": 89,
   "metadata": {},
   "outputs": [
    {
     "data": {
      "text/html": [
       "<div>\n",
       "<style scoped>\n",
       "    .dataframe tbody tr th:only-of-type {\n",
       "        vertical-align: middle;\n",
       "    }\n",
       "\n",
       "    .dataframe tbody tr th {\n",
       "        vertical-align: top;\n",
       "    }\n",
       "\n",
       "    .dataframe thead th {\n",
       "        text-align: right;\n",
       "    }\n",
       "</style>\n",
       "<table border=\"1\" class=\"dataframe\">\n",
       "  <thead>\n",
       "    <tr style=\"text-align: right;\">\n",
       "      <th></th>\n",
       "      <th>male</th>\n",
       "      <th>female</th>\n",
       "      <th>total</th>\n",
       "    </tr>\n",
       "  </thead>\n",
       "  <tbody>\n",
       "    <tr>\n",
       "      <th>0</th>\n",
       "      <td>577</td>\n",
       "      <td>314</td>\n",
       "      <td>891</td>\n",
       "    </tr>\n",
       "  </tbody>\n",
       "</table>\n",
       "</div>"
      ],
      "text/plain": [
       "   male  female  total\n",
       "0   577     314    891"
      ]
     },
     "execution_count": 89,
     "metadata": {},
     "output_type": "execute_result"
    }
   ],
   "source": [
    "males = titanic[titanic.Sex == \"male\"].count().Name\n",
    "females = titanic[titanic.Sex == \"female\"].count().Name\n",
    "total = titanic.count().Name\n",
    "pd.DataFrame({\"male\": [males], \"female\": [females], \"total\": [total]})"
   ]
  },
  {
   "cell_type": "markdown",
   "metadata": {},
   "source": [
    "Какой части пассажиров удалось выжить? Посчитайте долю выживших пассажиров."
   ]
  },
  {
   "cell_type": "code",
   "execution_count": 90,
   "metadata": {},
   "outputs": [
    {
     "data": {
      "text/html": [
       "<div>\n",
       "<style scoped>\n",
       "    .dataframe tbody tr th:only-of-type {\n",
       "        vertical-align: middle;\n",
       "    }\n",
       "\n",
       "    .dataframe tbody tr th {\n",
       "        vertical-align: top;\n",
       "    }\n",
       "\n",
       "    .dataframe thead th {\n",
       "        text-align: right;\n",
       "    }\n",
       "</style>\n",
       "<table border=\"1\" class=\"dataframe\">\n",
       "  <thead>\n",
       "    <tr style=\"text-align: right;\">\n",
       "      <th></th>\n",
       "      <th>survived</th>\n",
       "      <th>total</th>\n",
       "      <th>proportion</th>\n",
       "    </tr>\n",
       "  </thead>\n",
       "  <tbody>\n",
       "    <tr>\n",
       "      <th>0</th>\n",
       "      <td>342</td>\n",
       "      <td>891</td>\n",
       "      <td>0.38</td>\n",
       "    </tr>\n",
       "  </tbody>\n",
       "</table>\n",
       "</div>"
      ],
      "text/plain": [
       "   survived  total  proportion\n",
       "0       342    891        0.38"
      ]
     },
     "execution_count": 90,
     "metadata": {},
     "output_type": "execute_result"
    }
   ],
   "source": [
    "survived = titanic.Survived.sum()\n",
    "pd.DataFrame({\"survived\": [survived], \"total\": [total], \"proportion\": [round(survived / total, 2)]})"
   ]
  },
  {
   "cell_type": "markdown",
   "metadata": {},
   "source": [
    "Какую долю пассажиры первого класса составляли среди всех пассажиров?"
   ]
  },
  {
   "cell_type": "code",
   "execution_count": 91,
   "metadata": {},
   "outputs": [
    {
     "data": {
      "text/html": [
       "<div>\n",
       "<style scoped>\n",
       "    .dataframe tbody tr th:only-of-type {\n",
       "        vertical-align: middle;\n",
       "    }\n",
       "\n",
       "    .dataframe tbody tr th {\n",
       "        vertical-align: top;\n",
       "    }\n",
       "\n",
       "    .dataframe thead th {\n",
       "        text-align: right;\n",
       "    }\n",
       "</style>\n",
       "<table border=\"1\" class=\"dataframe\">\n",
       "  <thead>\n",
       "    <tr style=\"text-align: right;\">\n",
       "      <th></th>\n",
       "      <th>first</th>\n",
       "      <th>total</th>\n",
       "      <th>proportion</th>\n",
       "    </tr>\n",
       "  </thead>\n",
       "  <tbody>\n",
       "    <tr>\n",
       "      <th>0</th>\n",
       "      <td>216</td>\n",
       "      <td>891</td>\n",
       "      <td>0.24</td>\n",
       "    </tr>\n",
       "  </tbody>\n",
       "</table>\n",
       "</div>"
      ],
      "text/plain": [
       "   first  total  proportion\n",
       "0    216    891        0.24"
      ]
     },
     "execution_count": 91,
     "metadata": {},
     "output_type": "execute_result"
    }
   ],
   "source": [
    "first = titanic[titanic.Pclass == 1].count().Name\n",
    "pd.DataFrame({\"first\": [first], \"total\": [total], \"proportion\": [round(first / total, 2)]})"
   ]
  },
  {
   "cell_type": "markdown",
   "metadata": {},
   "source": [
    "Какого возраста были пассажиры? Посчитайте среднее и медиану возраста пассажиров."
   ]
  },
  {
   "cell_type": "code",
   "execution_count": 92,
   "metadata": {},
   "outputs": [
    {
     "data": {
      "text/plain": [
       "count    714.000000\n",
       "mean      29.699118\n",
       "std       14.526497\n",
       "min        0.420000\n",
       "25%       20.125000\n",
       "50%       28.000000\n",
       "75%       38.000000\n",
       "max       80.000000\n",
       "Name: Age, dtype: float64"
      ]
     },
     "execution_count": 92,
     "metadata": {},
     "output_type": "execute_result"
    }
   ],
   "source": [
    "titanic.Age.describe()"
   ]
  },
  {
   "cell_type": "markdown",
   "metadata": {},
   "source": [
    "Коррелируют ли число братьев/сестер/супругов с числом родителей/детей?\n",
    "Посчитайте корреляцию Пирсона между признаками SibSp и Parch."
   ]
  },
  {
   "cell_type": "code",
   "execution_count": 93,
   "metadata": {},
   "outputs": [],
   "source": [
    "from scipy.stats import pearsonr\n",
    "import matplotlib.pyplot as plt\n",
    "plt.rcParams[\"figure.figsize\"] = (6, 3)"
   ]
  },
  {
   "cell_type": "code",
   "execution_count": 94,
   "metadata": {},
   "outputs": [
    {
     "data": {
      "text/plain": [
       "PearsonRResult(statistic=0.4148376986201561, pvalue=2.2418236681384912e-38)"
      ]
     },
     "execution_count": 94,
     "metadata": {},
     "output_type": "execute_result"
    }
   ],
   "source": [
    "pearsonr(titanic.SibSp, titanic.Parch)"
   ]
  },
  {
   "cell_type": "code",
   "execution_count": 95,
   "metadata": {},
   "outputs": [],
   "source": [
    "sibsp = list(set(titanic.SibSp))\n",
    "parch = list(set(titanic.Parch))\n",
    "res = []\n",
    "\n",
    "for s in sibsp:\n",
    "    for p in parch:\n",
    "        res.append((s, p, titanic[(titanic.SibSp == s) & (titanic.Parch == p)].count().Name))"
   ]
  },
  {
   "cell_type": "code",
   "execution_count": 96,
   "metadata": {},
   "outputs": [
    {
     "data": {
      "image/png": "[encoded data removed]",
      "text/plain": [
       "<Figure size 800x600 with 1 Axes>"
      ]
     },
     "metadata": {},
     "output_type": "display_data"
    }
   ],
   "source": [
    "plt.figure(figsize=(8, 6))\n",
    "plt.scatter([i[0] for i in res], [i[1] for i in res], s=[i[2] for i in res], label='Number of records')\n",
    "plt.xlabel(\"Siblings, Spouses\")\n",
    "plt.ylabel(\"Parents, Children\")\n",
    "plt.legend(loc=\"upper right\")\n",
    "# plt.set_size_inches(18.5, 10.5)\n",
    "plt.show()"
   ]
  },
  {
   "cell_type": "markdown",
   "metadata": {},
   "source": [
    "Какое самое популярное женское имя на корабле? Извлеките из полного имени пассажира (колонка Name) его личное имя (First Name)."
   ]
  },
  {
   "cell_type": "code",
   "execution_count": 97,
   "metadata": {},
   "outputs": [],
   "source": [
    "def filter_name(x: str) -> str:\n",
    "    \"\"\"filter First Name from dataset\n",
    "\n",
    "    :param x: Full Name\n",
    "    :type x: str\n",
    "    :return: First Name\n",
    "    :rtype: str\n",
    "    \"\"\"\n",
    "    # every line has Surname + Mrs. or Miss. + Names\n",
    "    # hence cut everything before dot\n",
    "    x = x.split(\".\")[1].strip()\n",
    "    # Mrs' names are in brackets\n",
    "    if \"(\" in x:\n",
    "        x = x.split(\"(\")[1][:-1]  # remove closing bracket\n",
    "    # remove \"nickname\"\n",
    "    x = x.split('\"')[0].strip()\n",
    "    # select first word\n",
    "    x = x.split(\" \")[0]\n",
    "    return x\n"
   ]
  },
  {
   "cell_type": "code",
   "execution_count": 98,
   "metadata": {},
   "outputs": [
    {
     "data": {
      "text/plain": [
       "1        Florence\n",
       "2           Laina\n",
       "3            Lily\n",
       "8       Elisabeth\n",
       "9           Adele\n",
       "10     Marguerite\n",
       "11      Elizabeth\n",
       "14          Hulda\n",
       "15           Mary\n",
       "18         Emelia\n",
       "19         Fatima\n",
       "22           Anna\n",
       "24        Torborg\n",
       "25          Selma\n",
       "28          Ellen\n",
       "31          Marie\n",
       "32           Mary\n",
       "38        Augusta\n",
       "39         Jamila\n",
       "40        Johanna\n",
       "41        Dorothy\n",
       "43        Simonne\n",
       "44       Margaret\n",
       "47        Bridget\n",
       "49       Josefine\n",
       "52           Myna\n",
       "53      Elizabeth\n",
       "56          Emily\n",
       "58      Constance\n",
       "61         Amelie\n",
       "66      Elizabeth\n",
       "68           Erna\n",
       "71        Lillian\n",
       "79      Elizabeth\n",
       "82        Brigdet\n",
       "84         Bertha\n",
       "85          Maria\n",
       "88          Mabel\n",
       "98            Ada\n",
       "100       Matilda\n",
       "106          Anna\n",
       "109        Bertha\n",
       "111        Hileni\n",
       "113      Katriina\n",
       "114        Malake\n",
       "119         Ellis\n",
       "123         Susan\n",
       "128          Anna\n",
       "132         Grace\n",
       "133      Mathilde\n",
       "Name: Name, dtype: object"
      ]
     },
     "execution_count": 98,
     "metadata": {},
     "output_type": "execute_result"
    }
   ],
   "source": [
    "# pd.set_option(\"display.max_colwidth\", None)\n",
    "names = titanic[titanic.Sex == \"female\"].Name\n",
    "names = names.apply(filter_name)\n",
    "names = names[names != \"\"]\n",
    "names.head(50)"
   ]
  },
  {
   "cell_type": "code",
   "execution_count": 99,
   "metadata": {},
   "outputs": [
    {
     "data": {
      "text/plain": [
       "Anna         15\n",
       "Mary         14\n",
       "Elizabeth    11\n",
       "Margaret     10\n",
       "Alice         6\n",
       "Helen         5\n",
       "Bertha        5\n",
       "Florence      4\n",
       "Marie         4\n",
       "Catherine     4\n",
       "Name: Name, dtype: int64"
      ]
     },
     "execution_count": 99,
     "metadata": {},
     "output_type": "execute_result"
    }
   ],
   "source": [
    "# names.mode()\n",
    "names.value_counts()[:10]"
   ]
  },
  {
   "cell_type": "markdown",
   "metadata": {},
   "source": [
    "## task 2"
   ]
  },
  {
   "cell_type": "code",
   "execution_count": 100,
   "metadata": {},
   "outputs": [],
   "source": [
    "from math import sin, exp\n",
    "import numpy as np\n",
    "from scipy.linalg import solve"
   ]
  },
  {
   "cell_type": "markdown",
   "metadata": {},
   "source": [
    "Polynomial $g(x)$"
   ]
  },
  {
   "cell_type": "code",
   "execution_count": 101,
   "metadata": {},
   "outputs": [],
   "source": [
    "def g(x: float, A: list) -> float:\n",
    "    return sum([A[i][0] * (x ** i) for i in range(len(A))])"
   ]
  },
  {
   "cell_type": "markdown",
   "metadata": {},
   "source": [
    "Given function"
   ]
  },
  {
   "cell_type": "code",
   "execution_count": 102,
   "metadata": {},
   "outputs": [],
   "source": [
    "def f(x: float) -> float:\n",
    "    return sin(x / 5) * exp(x / 10) + 5 * exp(-x / 2)\n"
   ]
  },
  {
   "cell_type": "code",
   "execution_count": 103,
   "metadata": {},
   "outputs": [],
   "source": [
    "x_axis = np.linspace(1, 15, num=60)"
   ]
  },
  {
   "cell_type": "code",
   "execution_count": 104,
   "metadata": {},
   "outputs": [
    {
     "data": {
      "image/png": "[encoded data removed]",
      "text/plain": [
       "<Figure size 600x300 with 1 Axes>"
      ]
     },
     "metadata": {},
     "output_type": "display_data"
    }
   ],
   "source": [
    "plt.plot(x_axis, [f(x) for x in x_axis], label=\"$f(x)$\")\n",
    "plt.axis([0, 16, 0, 4])\n",
    "plt.grid()\n",
    "plt.legend()\n",
    "plt.show()"
   ]
  },
  {
   "cell_type": "markdown",
   "metadata": {},
   "source": [
    "Приблизим функцию $f$ в точках 1 и 15 многочленом первой степени"
   ]
  },
  {
   "cell_type": "markdown",
   "metadata": {},
   "source": [
    "$$\n",
    "\\left\\{ \n",
    "\\begin{align*} \n",
    "a_0 + a_1 x_1 &=  f(x_1) \\\\ \n",
    "a_0 + a_1 x_2 &=  f(x_2)\n",
    "\\end{align*}\n",
    "\\right.\n",
    "$$\n",
    "$$\n",
    "\\\\ \\ \\\\\n",
    "\\left\\{ \n",
    "\\begin{align*} \n",
    "a_0 + a_1 \\cdot 1 &= 3.252 \\\\ \n",
    "a_0 + a_1 \\cdot 15 &= 0.635\n",
    "\\end{align*}\n",
    "\\right.\n",
    "\\\\ \\ \\\\\n",
    "\\begin{pmatrix}\n",
    "1 & 1\\\\\n",
    "1 & 15\n",
    "\\end{pmatrix} \\cdot \n",
    "\\begin{pmatrix}\n",
    "a_0\\\\\n",
    "a_1\n",
    "\\end{pmatrix} = \n",
    "\\begin{pmatrix}\n",
    "3.252\\\\\n",
    "0.635\n",
    "\\end{pmatrix}\n",
    "\\\\ \\ \\\\\n",
    "A = \\begin{pmatrix}\n",
    "1 & 1\\\\\n",
    "1 & 15\n",
    "\\end{pmatrix}, \\ \n",
    "b = \\begin{pmatrix}\n",
    "3.252\\\\\n",
    "0.635\n",
    "\\end{pmatrix}\n",
    "$$"
   ]
  },
  {
   "cell_type": "code",
   "execution_count": 105,
   "metadata": {},
   "outputs": [
    {
     "name": "stdout",
     "output_type": "stream",
     "text": [
      "A = [[1, 1], [1, 15]]\n",
      "b = [[3.252216865271419], [0.6352214195786656]]\n"
     ]
    }
   ],
   "source": [
    "X = [1, 15]  # точки, в которых аппроксимируется функция\n",
    "n = len(X)  # degree of a polynomial\n",
    "A, b = [], []  # matrices\n",
    "for x in X:\n",
    "    A.append([x ** i for i in range(n)])\n",
    "    b.append([f(x)])\n",
    "print(\"A =\", A)\n",
    "print(\"b =\", b)"
   ]
  },
  {
   "cell_type": "code",
   "execution_count": 106,
   "metadata": {},
   "outputs": [
    {
     "data": {
      "text/plain": [
       "array([[ 3.43914511],\n",
       "       [-0.18692825]])"
      ]
     },
     "execution_count": 106,
     "metadata": {},
     "output_type": "execute_result"
    }
   ],
   "source": [
    "# find coefficients:\n",
    "R = solve(A, b)\n",
    "R"
   ]
  },
  {
   "cell_type": "code",
   "execution_count": 107,
   "metadata": {},
   "outputs": [
    {
     "data": {
      "image/png": "[encoded data removed]",
      "text/plain": [
       "<Figure size 600x300 with 1 Axes>"
      ]
     },
     "metadata": {},
     "output_type": "display_data"
    }
   ],
   "source": [
    "# plot given function and polynomial\n",
    "plt.plot(x_axis, [f(x) for x in x_axis], label=\"$f(x)$\", color=\"b\")\n",
    "plt.plot(x_axis, [g(x, R) for x in x_axis], label=\"$g(x)$\", color=\"g\")\n",
    "plt.axis([0, 16, 0, 4])\n",
    "plt.grid() # Отобразим сетку\n",
    "plt.legend() # Отобразить легенду\n",
    "plt.show()"
   ]
  },
  {
   "cell_type": "markdown",
   "metadata": {},
   "source": [
    "Приблизим функцию $f$ в точках 1, 8 и 15 многочленом второй степени"
   ]
  },
  {
   "cell_type": "markdown",
   "metadata": {},
   "source": [
    "$$\n",
    "\\left\\{ \n",
    "\\begin{align*} \n",
    "a_0 + a_1 x_1 + a_2 x_1 ^ 2 &=  f(x_1) \\\\ \n",
    "a_0 + a_1 x_2 + a_2 x_2 ^ 2 &=  f(x_2) \\\\\n",
    "a_0 + a_1 x_3 + a_2 x_3 ^ 2 &=  f(x_3)\n",
    "\\end{align*}\n",
    "\\right.\n",
    "$$\n",
    "$$\n",
    "\\\\ \\ \\\\\n",
    "\\left\\{ \n",
    "\\begin{align*} \n",
    "a_0 + a_1 \\cdot 1 + a_2 \\cdot 1 ^ 2 &=  3.252 \\\\ \n",
    "a_0 + a_1 \\cdot 8 + a_2 \\cdot 8 ^ 2 &=  2.316 \\\\\n",
    "a_0 + a_1 \\cdot 15 + a_2 \\cdot 15 ^ 2 &= 0.635\n",
    "\\end{align*}\n",
    "\\right.\n",
    "\\\\ \\ \\\\\n",
    "\\begin{pmatrix}\n",
    "1 & 1 & 1^2 \\\\\n",
    "1 & 8 & 8^2 \\\\\n",
    "1 & 15 & 15^2 \n",
    "\\end{pmatrix} \\cdot \n",
    "\\begin{pmatrix}\n",
    "a_0 \\\\\n",
    "a_1 \\\\\n",
    "a_2\n",
    "\\end{pmatrix} = \n",
    "\\begin{pmatrix}\n",
    "3.252\\\\\n",
    "2.316 \\\\\n",
    "0.635\n",
    "\\end{pmatrix}\n",
    "\\\\ \\ \\\\\n",
    "A = \\begin{pmatrix}\n",
    "1 & 1 & 1^2 \\\\\n",
    "1 & 8 & 8^2 \\\\\n",
    "1 & 15 & 15^2 \n",
    "\\end{pmatrix}, \\ \n",
    "b = \\begin{pmatrix}\n",
    "3.252\\\\\n",
    "2.316 \\\\\n",
    "0.635\n",
    "\\end{pmatrix}\n",
    "$$"
   ]
  },
  {
   "cell_type": "code",
   "execution_count": 108,
   "metadata": {},
   "outputs": [
    {
     "name": "stdout",
     "output_type": "stream",
     "text": [
      "A = [[1, 1, 1], [1, 8, 64], [1, 15, 225]]\n",
      "b = [[3.252216865271419], [2.316170159053224], [0.6352214195786656]]\n"
     ]
    }
   ],
   "source": [
    "X = [1, 8, 15]  # точки, в которых аппроксимируется функция\n",
    "n = len(X)  # degree of a polynomial\n",
    "A, b = [], []  # matrices\n",
    "for x in X:\n",
    "    A.append([x ** i for i in range(n)])\n",
    "    b.append([f(x)])\n",
    "print(\"A =\", A)\n",
    "print(\"b =\", b)"
   ]
  },
  {
   "cell_type": "code",
   "execution_count": 109,
   "metadata": {},
   "outputs": [
    {
     "data": {
      "text/plain": [
       "array([[ 3.32512949],\n",
       "       [-0.06531159],\n",
       "       [-0.00760104]])"
      ]
     },
     "execution_count": 109,
     "metadata": {},
     "output_type": "execute_result"
    }
   ],
   "source": [
    "# find coefficients:\n",
    "R = solve(A, b)\n",
    "R"
   ]
  },
  {
   "cell_type": "code",
   "execution_count": 110,
   "metadata": {
    "scrolled": true
   },
   "outputs": [
    {
     "data": {
      "image/png": "[encoded data removed]",
      "text/plain": [
       "<Figure size 600x300 with 1 Axes>"
      ]
     },
     "metadata": {},
     "output_type": "display_data"
    }
   ],
   "source": [
    "# plot given function and polynomial\n",
    "plt.plot(x_axis, [f(x) for x in x_axis], label=\"$f(x)$\", color=\"b\")\n",
    "plt.plot(x_axis, [g(x, R) for x in x_axis], label=\"$g(x)$\", color=\"g\")\n",
    "plt.axis([0, 16, 0, 4])\n",
    "plt.grid() # Отобразим сетку\n",
    "plt.legend() # Отобразить легенду\n",
    "plt.show()"
   ]
  },
  {
   "cell_type": "markdown",
   "metadata": {},
   "source": [
    "Приблизим функцию $f$ в точках 1, 4, 10 и 15 многочленом третей степени"
   ]
  },
  {
   "cell_type": "markdown",
   "metadata": {},
   "source": [
    "$$\n",
    "\\left\\{ \n",
    "\\begin{align*} \n",
    "a_0 + a_1 x_1 + a_2 x_1 ^ 2 + a_3 x_1 ^ 3 &=  f(x_1) \\\\ \n",
    "a_0 + a_1 x_2 + a_2 x_2 ^ 2 + a_3 x_2 ^ 3 &=  f(x_2) \\\\\n",
    "a_0 + a_1 x_3 + a_2 x_3 ^ 2 + a_3 x_3 ^ 3 &=  f(x_3) \\\\\n",
    "a_0 + a_1 x_4 + a_2 x_4 ^ 2 + a_3 x_4 ^ 3 &=  f(x_4)\n",
    "\\end{align*}\n",
    "\\right.\n",
    "$$\n",
    "$$\n",
    "\\\\ \\ \\\\\n",
    "\\left\\{ \n",
    "\\begin{align*} \n",
    "a_0 + a_1 \\cdot 1 + a_2 \\cdot 1 ^ 2 + a_3 \\cdot 1 ^ 3 &= 3.252 \\\\ \n",
    "a_0 + a_1 \\cdot 4 + a_2 \\cdot 4 ^ 2 + a_3 \\cdot 4 ^ 3 &= 1.747 \\\\\n",
    "a_0 + a_1 \\cdot 10 + a_2 \\cdot 10 ^ 2 + a_3 \\cdot 10 ^ 3 &= 2.505 \\\\\n",
    "a_0 + a_1 \\cdot 15 + a_2 \\cdot 15 ^ 2 + a_3 \\cdot 15 ^ 3 &= 0.635\n",
    "\\end{align*}\n",
    "\\right.\n",
    "\\\\ \\ \\\\\n",
    "\\begin{pmatrix}\n",
    "1 & 1 & 1^2 & 1^3 \\\\\n",
    "1 & 4 & 4^2 & 4^3 \\\\\n",
    "1 & 10 & 10^2 & 10^3 \\\\\n",
    "1 & 15 & 15^2 & 15^3 \n",
    "\\end{pmatrix} \\cdot \n",
    "\\begin{pmatrix}\n",
    "a_0 \\\\\n",
    "a_1 \\\\\n",
    "a_2 \\\\\n",
    "a_3\n",
    "\\end{pmatrix} = \n",
    "\\begin{pmatrix}\n",
    "3.252 \\\\\n",
    "1.747 \\\\\n",
    "2.505 \\\\\n",
    "0.635\n",
    "\\end{pmatrix}\n",
    "\\\\ \\ \\\\\n",
    "A = \\begin{pmatrix}\n",
    "1 & 1 & 1^2 & 1^3 \\\\\n",
    "1 & 4 & 4^2 & 4^3 \\\\\n",
    "1 & 10 & 10^2 & 10^3 \\\\\n",
    "1 & 15 & 15^2 & 15^3 \n",
    "\\end{pmatrix}, \\ \n",
    "b = \\begin{pmatrix}\n",
    "3.252 \\\\\n",
    "1.747 \\\\\n",
    "2.505 \\\\\n",
    "0.635\n",
    "\\end{pmatrix}\n",
    "$$"
   ]
  },
  {
   "cell_type": "code",
   "execution_count": 111,
   "metadata": {},
   "outputs": [
    {
     "name": "stdout",
     "output_type": "stream",
     "text": [
      "A = [[1, 1, 1, 1], [1, 4, 16, 64], [1, 10, 100, 1000], [1, 15, 225, 3375]]\n",
      "b = [[3.252216865271419], [1.7468459495903677], [2.5054164070002463], [0.6352214195786656]]\n"
     ]
    }
   ],
   "source": [
    "X = [1, 4, 10, 15]  # точки, в которых аппроксимируется функция\n",
    "n = len(X)  # degree of a polynomial\n",
    "A, b = [], []  # matrices\n",
    "for x in X:\n",
    "    A.append([x ** i for i in range(n)])\n",
    "    b.append([f(x)])\n",
    "print(\"A =\", A)\n",
    "print(\"b =\", b)"
   ]
  },
  {
   "cell_type": "code",
   "execution_count": 112,
   "metadata": {},
   "outputs": [
    {
     "data": {
      "text/plain": [
       "array([[ 4.36264154],\n",
       "       [-1.29552587],\n",
       "       [ 0.19333685],\n",
       "       [-0.00823565]])"
      ]
     },
     "execution_count": 112,
     "metadata": {},
     "output_type": "execute_result"
    }
   ],
   "source": [
    "# find coefficients:\n",
    "R = solve(A, b)\n",
    "R"
   ]
  },
  {
   "cell_type": "code",
   "execution_count": 113,
   "metadata": {},
   "outputs": [
    {
     "data": {
      "image/png": "[encoded data removed]",
      "text/plain": [
       "<Figure size 600x300 with 1 Axes>"
      ]
     },
     "metadata": {},
     "output_type": "display_data"
    }
   ],
   "source": [
    "# plot given function and polynomial\n",
    "plt.plot(x_axis, [f(x) for x in x_axis], label=\"$f(x)$\", color=\"b\")\n",
    "plt.plot(x_axis, [g(x, R) for x in x_axis], label=\"$g(x)$\", color=\"g\")\n",
    "plt.grid() # Отобразим сетку\n",
    "plt.legend() # Отобразить легенду\n",
    "plt.show()"
   ]
  },
  {
   "cell_type": "markdown",
   "metadata": {},
   "source": [
    "Ответ: $(4.363,-1.296, 0.193, -0.008)$"
   ]
  }
 ],
 "metadata": {
  "kernelspec": {
   "display_name": "Python 3 (ipykernel)",
   "language": "python",
   "name": "python3"
  },
  "language_info": {
   "codemirror_mode": {
    "name": "ipython",
    "version": 3
   },
   "file_extension": ".py",
   "mimetype": "text/x-python",
   "name": "python",
   "nbconvert_exporter": "python",
   "pygments_lexer": "ipython3",
   "version": "3.10.6"
  }
 },
 "nbformat": 4,
 "nbformat_minor": 2
}
