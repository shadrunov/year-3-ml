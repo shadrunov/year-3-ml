{
 "cells": [
  {
   "cell_type": "markdown",
   "metadata": {},
   "source": [
    "# hw 2\n",
    "## Shadrunov Aleksey, BIB201"
   ]
  },
  {
   "cell_type": "markdown",
   "metadata": {},
   "source": [
    "## task 1: bayes classification"
   ]
  },
  {
   "cell_type": "code",
   "execution_count": 87,
   "metadata": {},
   "outputs": [],
   "source": [
    "from collections import defaultdict\n",
    "from math import log\n",
    "import pandas as pd\n",
    "from sklearn.model_selection import train_test_split\n",
    "from math import prod"
   ]
  },
  {
   "cell_type": "markdown",
   "metadata": {},
   "source": [
    "split dataset for train and test with `sklearn train_test_split`:"
   ]
  },
  {
   "cell_type": "code",
   "execution_count": 88,
   "metadata": {},
   "outputs": [],
   "source": [
    "names = pd.read_csv(\"names.csv\", names=[\"name\", \"gender\"], header=None)\n",
    "X_train, X_test = train_test_split(names, test_size=0.3)"
   ]
  },
  {
   "cell_type": "code",
   "execution_count": 89,
   "metadata": {},
   "outputs": [
    {
     "data": {
      "text/html": [
       "<div>\n",
       "<style scoped>\n",
       "    .dataframe tbody tr th:only-of-type {\n",
       "        vertical-align: middle;\n",
       "    }\n",
       "\n",
       "    .dataframe tbody tr th {\n",
       "        vertical-align: top;\n",
       "    }\n",
       "\n",
       "    .dataframe thead th {\n",
       "        text-align: right;\n",
       "    }\n",
       "</style>\n",
       "<table border=\"1\" class=\"dataframe\">\n",
       "  <thead>\n",
       "    <tr style=\"text-align: right;\">\n",
       "      <th></th>\n",
       "      <th>name</th>\n",
       "      <th>gender</th>\n",
       "    </tr>\n",
       "  </thead>\n",
       "  <tbody>\n",
       "    <tr>\n",
       "      <th>0</th>\n",
       "      <td>John</td>\n",
       "      <td>boy</td>\n",
       "    </tr>\n",
       "    <tr>\n",
       "      <th>1</th>\n",
       "      <td>William</td>\n",
       "      <td>boy</td>\n",
       "    </tr>\n",
       "    <tr>\n",
       "      <th>2</th>\n",
       "      <td>James</td>\n",
       "      <td>boy</td>\n",
       "    </tr>\n",
       "    <tr>\n",
       "      <th>3</th>\n",
       "      <td>Charles</td>\n",
       "      <td>boy</td>\n",
       "    </tr>\n",
       "    <tr>\n",
       "      <th>4</th>\n",
       "      <td>George</td>\n",
       "      <td>boy</td>\n",
       "    </tr>\n",
       "    <tr>\n",
       "      <th>...</th>\n",
       "      <td>...</td>\n",
       "      <td>...</td>\n",
       "    </tr>\n",
       "    <tr>\n",
       "      <th>6777</th>\n",
       "      <td>Laylah</td>\n",
       "      <td>girl</td>\n",
       "    </tr>\n",
       "    <tr>\n",
       "      <th>6778</th>\n",
       "      <td>Carleigh</td>\n",
       "      <td>girl</td>\n",
       "    </tr>\n",
       "    <tr>\n",
       "      <th>6779</th>\n",
       "      <td>Kenley</td>\n",
       "      <td>girl</td>\n",
       "    </tr>\n",
       "    <tr>\n",
       "      <th>6780</th>\n",
       "      <td>Sloane</td>\n",
       "      <td>girl</td>\n",
       "    </tr>\n",
       "    <tr>\n",
       "      <th>6781</th>\n",
       "      <td>Elianna</td>\n",
       "      <td>girl</td>\n",
       "    </tr>\n",
       "  </tbody>\n",
       "</table>\n",
       "<p>6782 rows × 2 columns</p>\n",
       "</div>"
      ],
      "text/plain": [
       "          name gender\n",
       "0         John    boy\n",
       "1      William    boy\n",
       "2        James    boy\n",
       "3      Charles    boy\n",
       "4       George    boy\n",
       "...        ...    ...\n",
       "6777    Laylah   girl\n",
       "6778  Carleigh   girl\n",
       "6779    Kenley   girl\n",
       "6780    Sloane   girl\n",
       "6781   Elianna   girl\n",
       "\n",
       "[6782 rows x 2 columns]"
      ]
     },
     "execution_count": 89,
     "metadata": {},
     "output_type": "execute_result"
    }
   ],
   "source": [
    "names"
   ]
  },
  {
   "cell_type": "markdown",
   "metadata": {},
   "source": [
    "define functions:"
   ]
  },
  {
   "cell_type": "code",
   "execution_count": 90,
   "metadata": {},
   "outputs": [],
   "source": [
    "def get_features(sample: str) -> str:\n",
    "    \"\"\"returns last letter as a feature of an object\n",
    "\n",
    "    :param sample: input object (i. e. name)\n",
    "    :type sample: str\n",
    "    :return: feature (last letter)\n",
    "    :rtype: str\n",
    "    \"\"\"\n",
    "    return sample[-1]  # get last letter\n",
    "\n",
    "\n",
    "def train(samples: list[tuple[str, str]]) -> tuple[dict, dict]:\n",
    "    \"\"\"input: [(feat, label), ('e', 'girl'), ('r', 'boy'), ... ('h', 'girl')]\n",
    "\n",
    "    :param samples: [(feat, label), ('r', 'boy'), ... ('h', 'girl')]\n",
    "    :type samples: list[tuple[str, str]]\n",
    "    :return: dicts with names and probabilities of classes and features\n",
    "    :rtype: tuple[dict, dict]\n",
    "    \"\"\"\n",
    "    classes = defaultdict(lambda: 0)\n",
    "    freq = defaultdict(lambda: 0)\n",
    "\n",
    "    for feats, label in samples:\n",
    "        classes[label] += 1  # count classes frequencies\n",
    "        for feat in feats:\n",
    "            freq[label, feat] += 1  # count features frequencies\n",
    "        # freq[label, feats] += 1  # count features frequencies\n",
    "\n",
    "    for label, feat in freq:  # normalize features frequencies\n",
    "        freq[label, feat] /= classes[label]\n",
    "    for c in classes:  # normalize classes frequencies\n",
    "        classes[c] /= len(samples)\n",
    "\n",
    "    print(\"number of classes:\", len(classes))\n",
    "    print(\"classes:\", *classes.keys())\n",
    "    print(\"number of features:\", len(freq))\n",
    "    # print(freq)\n",
    "    return classes, freq  # return P(C) and P(O|C)\n",
    "\n",
    "\n",
    "def classify(classifier, feats):\n",
    "    classes, prob = classifier\n",
    "\n",
    "    return min(\n",
    "        classes.keys(),  # calculate argmin(-log(C|O))\n",
    "        key=lambda cl: -log(classes[cl]) + sum(-log(prob.get((cl, feat), 0.001)) for feat in feats),\n",
    "    )\n"
   ]
  },
  {
   "cell_type": "markdown",
   "metadata": {},
   "source": [
    "select features:"
   ]
  },
  {
   "cell_type": "code",
   "execution_count": 91,
   "metadata": {},
   "outputs": [
    {
     "name": "stdout",
     "output_type": "stream",
     "text": [
      "('a', 'girl')\n",
      "('h', 'girl')\n",
      "('a', 'girl')\n",
      "('t', 'boy')\n",
      "('a', 'girl')\n",
      "...\n",
      "\n"
     ]
    }
   ],
   "source": [
    "features = [(get_features(feat), label) for feat, label in zip(X_train[\"name\"], X_train[\"gender\"])]\n",
    "print(*features[:5], \"...\\n\", sep=\"\\n\")\n"
   ]
  },
  {
   "cell_type": "markdown",
   "metadata": {},
   "source": [
    "train classifier to distinguish objects:"
   ]
  },
  {
   "cell_type": "code",
   "execution_count": 92,
   "metadata": {},
   "outputs": [
    {
     "name": "stdout",
     "output_type": "stream",
     "text": [
      "number of classes: 2\n",
      "classes: girl boy\n",
      "number of features: 46\n"
     ]
    }
   ],
   "source": [
    "classifier = train(features)"
   ]
  },
  {
   "cell_type": "markdown",
   "metadata": {},
   "source": [
    "apply classifier to test dataset:"
   ]
  },
  {
   "cell_type": "code",
   "execution_count": 93,
   "metadata": {},
   "outputs": [
    {
     "data": {
      "text/html": [
       "<div>\n",
       "<style scoped>\n",
       "    .dataframe tbody tr th:only-of-type {\n",
       "        vertical-align: middle;\n",
       "    }\n",
       "\n",
       "    .dataframe tbody tr th {\n",
       "        vertical-align: top;\n",
       "    }\n",
       "\n",
       "    .dataframe thead th {\n",
       "        text-align: right;\n",
       "    }\n",
       "</style>\n",
       "<table border=\"1\" class=\"dataframe\">\n",
       "  <thead>\n",
       "    <tr style=\"text-align: right;\">\n",
       "      <th></th>\n",
       "      <th>name</th>\n",
       "      <th>gender</th>\n",
       "      <th>guess</th>\n",
       "    </tr>\n",
       "  </thead>\n",
       "  <tbody>\n",
       "    <tr>\n",
       "      <th>267</th>\n",
       "      <td>Isaiah</td>\n",
       "      <td>boy</td>\n",
       "      <td>girl</td>\n",
       "    </tr>\n",
       "    <tr>\n",
       "      <th>911</th>\n",
       "      <td>Albertus</td>\n",
       "      <td>boy</td>\n",
       "      <td>boy</td>\n",
       "    </tr>\n",
       "    <tr>\n",
       "      <th>3324</th>\n",
       "      <td>Kamari</td>\n",
       "      <td>boy</td>\n",
       "      <td>girl</td>\n",
       "    </tr>\n",
       "    <tr>\n",
       "      <th>4692</th>\n",
       "      <td>Clotilda</td>\n",
       "      <td>girl</td>\n",
       "      <td>girl</td>\n",
       "    </tr>\n",
       "    <tr>\n",
       "      <th>6170</th>\n",
       "      <td>Kyrie</td>\n",
       "      <td>girl</td>\n",
       "      <td>girl</td>\n",
       "    </tr>\n",
       "    <tr>\n",
       "      <th>...</th>\n",
       "      <td>...</td>\n",
       "      <td>...</td>\n",
       "      <td>...</td>\n",
       "    </tr>\n",
       "    <tr>\n",
       "      <th>2119</th>\n",
       "      <td>Gilmore</td>\n",
       "      <td>boy</td>\n",
       "      <td>girl</td>\n",
       "    </tr>\n",
       "    <tr>\n",
       "      <th>3813</th>\n",
       "      <td>Amalia</td>\n",
       "      <td>girl</td>\n",
       "      <td>girl</td>\n",
       "    </tr>\n",
       "    <tr>\n",
       "      <th>2517</th>\n",
       "      <td>Andra</td>\n",
       "      <td>boy</td>\n",
       "      <td>girl</td>\n",
       "    </tr>\n",
       "    <tr>\n",
       "      <th>1733</th>\n",
       "      <td>Zebulon</td>\n",
       "      <td>boy</td>\n",
       "      <td>boy</td>\n",
       "    </tr>\n",
       "    <tr>\n",
       "      <th>841</th>\n",
       "      <td>Dexter</td>\n",
       "      <td>boy</td>\n",
       "      <td>boy</td>\n",
       "    </tr>\n",
       "  </tbody>\n",
       "</table>\n",
       "<p>2035 rows × 3 columns</p>\n",
       "</div>"
      ],
      "text/plain": [
       "          name gender guess\n",
       "267     Isaiah    boy  girl\n",
       "911   Albertus    boy   boy\n",
       "3324    Kamari    boy  girl\n",
       "4692  Clotilda   girl  girl\n",
       "6170     Kyrie   girl  girl\n",
       "...        ...    ...   ...\n",
       "2119   Gilmore    boy  girl\n",
       "3813    Amalia   girl  girl\n",
       "2517     Andra    boy  girl\n",
       "1733   Zebulon    boy   boy\n",
       "841     Dexter    boy   boy\n",
       "\n",
       "[2035 rows x 3 columns]"
      ]
     },
     "execution_count": 93,
     "metadata": {},
     "output_type": "execute_result"
    }
   ],
   "source": [
    "X_test[\"guess\"] = X_test.apply(lambda row: classify(classifier, get_features(row[\"name\"])), axis=1)\n",
    "X_test"
   ]
  },
  {
   "cell_type": "markdown",
   "metadata": {},
   "source": [
    "calc accuracy as a proportion of correct answers:"
   ]
  },
  {
   "cell_type": "code",
   "execution_count": 94,
   "metadata": {},
   "outputs": [],
   "source": [
    "X_test[\"match\"] = X_test.apply(lambda row: row[\"gender\"] == row[\"guess\"], axis=1)"
   ]
  },
  {
   "cell_type": "code",
   "execution_count": 95,
   "metadata": {},
   "outputs": [
    {
     "data": {
      "text/plain": [
       "match\n",
       "True     0.77887\n",
       "False    0.22113\n",
       "dtype: float64"
      ]
     },
     "execution_count": 95,
     "metadata": {},
     "output_type": "execute_result"
    }
   ],
   "source": [
    "X_test.value_counts(\"match\", normalize=True)"
   ]
  },
  {
   "cell_type": "markdown",
   "metadata": {},
   "source": [
    "### more metrics"
   ]
  },
  {
   "cell_type": "markdown",
   "metadata": {},
   "source": [
    "now we can calculate two more metrics:\n",
    "* precision: how many selected elements are relevant\n",
    "* recall: how many relevant elements are selected  \n",
    "\n",
    "as described [here](https://habr.com/ru/company/ods/blog/328372/)  \n",
    "for example, all calculations are made for \"girl\" class"
   ]
  },
  {
   "cell_type": "code",
   "execution_count": 96,
   "metadata": {},
   "outputs": [
    {
     "data": {
      "text/plain": [
       "match\n",
       "True     0.774848\n",
       "False    0.225152\n",
       "dtype: float64"
      ]
     },
     "execution_count": 96,
     "metadata": {},
     "output_type": "execute_result"
    }
   ],
   "source": [
    "precision = X_test[X_test[\"guess\"] == \"girl\"].value_counts(\"match\", normalize=True)\n",
    "precision"
   ]
  },
  {
   "cell_type": "code",
   "execution_count": 97,
   "metadata": {},
   "outputs": [
    {
     "data": {
      "text/plain": [
       "match\n",
       "True     0.770161\n",
       "False    0.229839\n",
       "dtype: float64"
      ]
     },
     "execution_count": 97,
     "metadata": {},
     "output_type": "execute_result"
    }
   ],
   "source": [
    "recall = X_test[X_test[\"gender\"] == \"girl\"].value_counts(\"match\", normalize=True)\n",
    "recall"
   ]
  },
  {
   "cell_type": "markdown",
   "metadata": {},
   "source": [
    "it seems that all metrics are almost equal"
   ]
  },
  {
   "cell_type": "markdown",
   "metadata": {},
   "source": [
    "### modify `get_features()`"
   ]
  },
  {
   "cell_type": "markdown",
   "metadata": {},
   "source": [
    "now let's modify `get_features()` to use first and last letters as **two** features"
   ]
  },
  {
   "cell_type": "code",
   "execution_count": 98,
   "metadata": {},
   "outputs": [],
   "source": [
    "def get_features_2(sample: str) -> str:\n",
    "    \"\"\"returns first and last letters as a feature\n",
    "\n",
    "    :param sample: input object (i. e. name)\n",
    "    :type sample: str\n",
    "    :return: feature (first and last letter)\n",
    "    :rtype: str\n",
    "    \"\"\"\n",
    "    return [sample[0], sample[-1]]\n"
   ]
  },
  {
   "cell_type": "code",
   "execution_count": 99,
   "metadata": {},
   "outputs": [
    {
     "name": "stdout",
     "output_type": "stream",
     "text": [
      "(['S', 'a'], 'girl')\n",
      "(['N', 'h'], 'girl')\n",
      "(['S', 'a'], 'girl')\n",
      "(['J', 't'], 'boy')\n",
      "(['S', 'a'], 'girl')\n",
      "...\n",
      "\n",
      "number of classes: 2\n",
      "classes: girl boy\n",
      "number of features: 98\n",
      "\n",
      "metrics #2 \n",
      "naive: 0.7769041769041769 \n",
      "precision: 0.7956043956043956 \n",
      "recall: 0.7298387096774194\n"
     ]
    }
   ],
   "source": [
    "# list of pairs (feature, label)\n",
    "features = [\n",
    "    (get_features_2(feat), label) \n",
    "    for feat, label in zip(X_train[\"name\"], X_train[\"gender\"])\n",
    "    ]\n",
    "print(*features[:5], \"...\\n\", sep=\"\\n\")\n",
    "\n",
    "classifier = train(features)\n",
    "\n",
    "X_test[\"guess_2\"] = X_test.apply(lambda row: classify(classifier, get_features_2(row[\"name\"])), axis=1)\n",
    "X_test[\"match_2\"] = X_test.apply(lambda row: row[\"gender\"] == row[\"guess_2\"], axis=1)\n",
    "\n",
    "plain_2 = X_test.value_counts(\"match_2\", normalize=True)[True]\n",
    "precision_2 = X_test[X_test[\"guess_2\"] == \"girl\"].value_counts(\"match_2\", normalize=True)[True]\n",
    "recall_2 = X_test[X_test[\"gender\"] == \"girl\"].value_counts(\"match_2\", normalize=True)[True]\n",
    "\n",
    "print(\"\\nmetrics #2\", \"\\nnaive:\", plain_2, \"\\nprecision:\", precision_2, \"\\nrecall:\", recall_2)"
   ]
  },
  {
   "cell_type": "markdown",
   "metadata": {},
   "source": [
    "### modify `classify()`"
   ]
  },
  {
   "cell_type": "markdown",
   "metadata": {},
   "source": [
    "now let's change `classify()` method. then, apply updated function to the first variant of feature vector:"
   ]
  },
  {
   "cell_type": "code",
   "execution_count": 100,
   "metadata": {},
   "outputs": [],
   "source": [
    "def classify_2(classifier, feats):\n",
    "    classes, prob = classifier\n",
    "\n",
    "    return max(\n",
    "        classes.keys(), \n",
    "        key=lambda cl: classes[cl] + prod(prob.get((cl, feat), 0.0001) for feat in feats),\n",
    "    )"
   ]
  },
  {
   "cell_type": "code",
   "execution_count": 101,
   "metadata": {},
   "outputs": [
    {
     "name": "stdout",
     "output_type": "stream",
     "text": [
      "('a', 'girl')\n",
      "('h', 'girl')\n",
      "('a', 'girl')\n",
      "('t', 'boy')\n",
      "('a', 'girl')\n",
      "...\n",
      "\n",
      "number of classes: 2\n",
      "classes: girl boy\n",
      "number of features: 46\n",
      "\n",
      "metrics #3 \n",
      "naive: 0.7773955773955774 \n",
      "precision: 0.7945355191256831 \n",
      "recall: 0.7328629032258065\n"
     ]
    }
   ],
   "source": [
    "features = [(get_features(feat), label) for feat, label in zip(X_train[\"name\"], X_train[\"gender\"])]\n",
    "print(*features[:5], \"...\\n\", sep=\"\\n\")\n",
    "\n",
    "classifier = train(features)\n",
    "\n",
    "X_test[\"guess_3\"] = X_test.apply(lambda row: classify_2(classifier, get_features(row[\"name\"])), axis=1)\n",
    "X_test[\"match_3\"] = X_test.apply(lambda row: row[\"gender\"] == row[\"guess_3\"], axis=1)\n",
    "\n",
    "plain_3 = X_test.value_counts(\"match_3\", normalize=True)[True]\n",
    "precision_3 = X_test[X_test[\"guess_3\"] == \"girl\"].value_counts(\"match_3\", normalize=True)[True]\n",
    "recall_3 = X_test[X_test[\"gender\"] == \"girl\"].value_counts(\"match_3\", normalize=True)[True]\n",
    "\n",
    "print(\"\\nmetrics #3\", \"\\nnaive:\", plain_3, \"\\nprecision:\", precision_3, \"\\nrecall:\", recall_3)"
   ]
  },
  {
   "cell_type": "markdown",
   "metadata": {},
   "source": [
    "repeat the procedure with the second version of feature vector:"
   ]
  },
  {
   "cell_type": "code",
   "execution_count": 102,
   "metadata": {},
   "outputs": [
    {
     "name": "stdout",
     "output_type": "stream",
     "text": [
      "(['S', 'a'], 'girl')\n",
      "(['N', 'h'], 'girl')\n",
      "(['S', 'a'], 'girl')\n",
      "(['J', 't'], 'boy')\n",
      "(['S', 'a'], 'girl')\n",
      "...\n",
      "\n",
      "number of classes: 2\n",
      "classes: girl boy\n",
      "number of features: 98\n",
      "\n",
      "metrics #4 \n",
      "naive: 0.7302211302211302 \n",
      "precision: 0.8879159369527145 \n",
      "recall: 0.5110887096774194\n"
     ]
    }
   ],
   "source": [
    "features = [(get_features_2(feat), label) for feat, label in zip(X_train[\"name\"], X_train[\"gender\"])]\n",
    "print(*features[:5], \"...\\n\", sep=\"\\n\")\n",
    "\n",
    "classifier = train(features)\n",
    "\n",
    "X_test[\"guess_4\"] = X_test.apply(lambda row: classify_2(classifier, get_features_2(row[\"name\"])), axis=1)\n",
    "X_test[\"match_4\"] = X_test.apply(lambda row: row[\"gender\"] == row[\"guess_4\"], axis=1)\n",
    "\n",
    "plain_4 = X_test.value_counts(\"match_4\", normalize=True)[True]\n",
    "precision_4 = X_test[X_test[\"guess_4\"] == \"girl\"].value_counts(\"match_4\", normalize=True)[True]\n",
    "recall_4 = X_test[X_test[\"gender\"] == \"girl\"].value_counts(\"match_4\", normalize=True)[True]\n",
    "\n",
    "print(\"\\nmetrics #4\", \"\\nnaive:\", plain_4, \"\\nprecision:\", precision_4, \"\\nrecall:\", recall_4)"
   ]
  },
  {
   "cell_type": "markdown",
   "metadata": {},
   "source": [
    "### result"
   ]
  },
  {
   "cell_type": "markdown",
   "metadata": {},
   "source": [
    "now, let's combine all metrics together:"
   ]
  },
  {
   "cell_type": "code",
   "execution_count": 103,
   "metadata": {},
   "outputs": [
    {
     "name": "stdout",
     "output_type": "stream",
     "text": [
      "\n",
      "metric #1 -- features: last letter, classifier: log \n",
      "naive: 0.7302 \n",
      "precision: 0.7748 \n",
      "recall: 0.7702\n",
      "\n",
      "metric #2 -- features: first and last letters, classifier: log \n",
      "naive: 0.7769 \n",
      "precision: 0.7956 \n",
      "recall: 0.7298\n",
      "\n",
      "metric #3 -- features: last letter, classifier: abs \n",
      "naive: 0.7774 \n",
      "precision: 0.7945 \n",
      "recall: 0.7329\n",
      "\n",
      "metric #4 -- features: first and last letters, classifier: abs \n",
      "naive: 0.7302 \n",
      "precision: 0.8879 \n",
      "recall: 0.5111\n"
     ]
    }
   ],
   "source": [
    "print(\"\\nmetric #1 -- features: last letter, classifier: log\", \"\\nnaive:\", \"%0.4f\" % X_test.value_counts(\"match_4\", normalize=True)[True], \"\\nprecision:\", \"%0.4f\" % precision[True], \"\\nrecall:\", \"%0.4f\" % recall[True])\n",
    "print(\"\\nmetric #2 -- features: first and last letters, classifier: log\", \"\\nnaive:\", \"%0.4f\" % plain_2, \"\\nprecision:\", \"%0.4f\" % precision_2, \"\\nrecall:\", \"%0.4f\" % recall_2)\n",
    "print(\"\\nmetric #3 -- features: last letter, classifier: abs\", \"\\nnaive:\", \"%0.4f\" % plain_3, \"\\nprecision:\", \"%0.4f\" % precision_3, \"\\nrecall:\", \"%0.4f\" % recall_3)\n",
    "print(\"\\nmetric #4 -- features: first and last letters, classifier: abs\", \"\\nnaive:\", \"%0.4f\" % plain_4, \"\\nprecision:\", \"%0.4f\" % precision_4, \"\\nrecall:\", \"%0.4f\" % recall_4)\n"
   ]
  },
  {
   "cell_type": "markdown",
   "metadata": {},
   "source": [
    "as a result, all metrics are more or less the same. naive metric lies between 0.7 and 0.8"
   ]
  },
  {
   "cell_type": "markdown",
   "metadata": {},
   "source": [
    "### sklearn"
   ]
  },
  {
   "cell_type": "markdown",
   "metadata": {},
   "source": [
    "now let's try `sklearn.naive_bayes` classifiers:"
   ]
  },
  {
   "cell_type": "code",
   "execution_count": 104,
   "metadata": {},
   "outputs": [],
   "source": [
    "from sklearn import naive_bayes\n",
    "from sklearn.preprocessing import LabelEncoder\n"
   ]
  },
  {
   "cell_type": "code",
   "execution_count": 105,
   "metadata": {},
   "outputs": [
    {
     "name": "stdout",
     "output_type": "stream",
     "text": [
      "Number of mislabeled points out of a total 2035 points : 528\n",
      "\n",
      "metrics \n",
      "naive: 0.7405\n"
     ]
    }
   ],
   "source": [
    "gnb = naive_bayes.GaussianNB()\n",
    "enc = LabelEncoder()\n",
    "\n",
    "features = [get_features(feat) for feat in X_train[\"name\"]]\n",
    "enc.fit(features)\n",
    "features = [ [i] for i in enc.transform(features) ]\n",
    "\n",
    "enc.fit(X_train[\"gender\"])\n",
    "labels = enc.transform(X_train[\"gender\"])\n",
    "\n",
    "features_test = [get_features(feat) for feat in X_test[\"name\"]]\n",
    "enc.fit(features_test)\n",
    "features_test = [ [i] for i in enc.transform(features_test) ]\n",
    "\n",
    "enc.fit(X_test[\"gender\"])\n",
    "labels_test = enc.transform(X_test[\"gender\"])\n",
    "\n",
    "labels_guess = gnb.fit(features, labels).predict(features_test)\n",
    "\n",
    "\n",
    "print(\"Number of mislabeled points out of a total %d points : %d\"\n",
    "       % (len(features_test), (labels_test != labels_guess).sum()))\n",
    "\n",
    "plain = (labels_test == labels_guess).sum() / len(labels_test)\n",
    "print(\"\\nmetrics\", \"\\nnaive:\", \"%0.4f\" % plain)"
   ]
  },
  {
   "cell_type": "code",
   "execution_count": 106,
   "metadata": {},
   "outputs": [
    {
     "name": "stdout",
     "output_type": "stream",
     "text": [
      "Number of mislabeled points out of a total 2035 points : 992\n",
      "\n",
      "metrics \n",
      "naive: 0.5125\n"
     ]
    }
   ],
   "source": [
    "mnb = naive_bayes.MultinomialNB()\n",
    "enc = LabelEncoder()\n",
    "\n",
    "features = [get_features(feat) for feat in X_train[\"name\"]]\n",
    "enc.fit(features)\n",
    "features = [ [i] for i in enc.transform(features) ]\n",
    "\n",
    "enc.fit(X_train[\"gender\"])\n",
    "labels = enc.transform(X_train[\"gender\"])\n",
    "\n",
    "features_test = [get_features(feat) for feat in X_test[\"name\"]]\n",
    "enc.fit(features_test)\n",
    "features_test = [ [i] for i in enc.transform(features_test) ]\n",
    "\n",
    "enc.fit(X_test[\"gender\"])\n",
    "labels_test = enc.transform(X_test[\"gender\"])\n",
    "\n",
    "labels_guess = mnb.fit(features, labels).predict(features_test)\n",
    "\n",
    "print(\"Number of mislabeled points out of a total %d points : %d\"\n",
    "       % (len(features_test), (labels_test != labels_guess).sum()))\n",
    "\n",
    "plain = (labels_test == labels_guess).sum() / len(labels_test)\n",
    "print(\"\\nmetrics\", \"\\nnaive:\", \"%0.4f\" % plain)"
   ]
  },
  {
   "cell_type": "markdown",
   "metadata": {},
   "source": [
    "as we see, in case of `sklearn` the quality of classification varies:\n",
    "* Gaussian Naive Bayes demonstrated precision of about 0.74\n",
    "* Multinomial Naive Bayes was no better than random guessing (proportion of correct answers about 1/2)  \n",
    "\n",
    "and naive classifier's precision is about 0.75 as well."
   ]
  },
  {
   "cell_type": "markdown",
   "metadata": {},
   "source": [
    "## task 2: Iris"
   ]
  },
  {
   "cell_type": "markdown",
   "metadata": {},
   "source": [
    "дальше очень сложно, поэтому на русском"
   ]
  },
  {
   "cell_type": "markdown",
   "metadata": {},
   "source": [
    "поделим датасет с ирисами на обучение и тестировку"
   ]
  },
  {
   "cell_type": "code",
   "execution_count": 107,
   "metadata": {},
   "outputs": [],
   "source": [
    "from sklearn.model_selection import train_test_split\n",
    "import numpy as np\n",
    "from sklearn.datasets import load_iris\n",
    "import matplotlib.pyplot as plt\n",
    "from scipy.stats import multivariate_normal"
   ]
  },
  {
   "cell_type": "code",
   "execution_count": 108,
   "metadata": {},
   "outputs": [],
   "source": [
    "iris = load_iris()\n",
    "X = iris.data\n",
    "y = iris.target\n",
    "X_train, X_test, y_train, y_test = train_test_split(X, y, test_size=0.5, random_state=42)"
   ]
  },
  {
   "cell_type": "markdown",
   "metadata": {},
   "source": [
    "### LDA вручную"
   ]
  },
  {
   "cell_type": "markdown",
   "metadata": {},
   "source": [
    "далее применим к тренировочному датасету ЛДА для получения собственных векторов"
   ]
  },
  {
   "cell_type": "code",
   "execution_count": 109,
   "metadata": {},
   "outputs": [],
   "source": [
    "def LDA_dimensionality(X, y, k):\n",
    "    '''\n",
    "    X - набор данных, y - метка, k - целевой размер\n",
    "    '''\n",
    "    label_ = list(set(y))\n",
    "\n",
    "    X_classify = {}\n",
    "\n",
    "    for label in label_:\n",
    "        X1 = np.array([X[i] for i in range(len(X)) if y[i] == label])\n",
    "        X_classify[label] = X1\n",
    "\n",
    "    mju = np.mean(X, axis=0)\n",
    "    mju_classify = {}\n",
    "\n",
    "    for label in label_:\n",
    "        mju1 = np.mean(X_classify[label], axis=0)\n",
    "        mju_classify[label] = mju1\n",
    "\n",
    "    #St = np.dot((X - mju).T, X - mju)\n",
    "\n",
    "    Sw = np.zeros((len(mju), len(mju)))  # Вычислить матрицу внутриклассовой дивергенции\n",
    "    for i in label_:\n",
    "        Sw += np.dot((X_classify[i] - mju_classify[i]).T,\n",
    "                     X_classify[i] - mju_classify[i])\n",
    "\n",
    "    # Sb=St-Sw\n",
    "\n",
    "    Sb = np.zeros((len(mju), len(mju)))  # Вычислить матрицу внутриклассовой дивергенции\n",
    "    for i in label_:\n",
    "        Sb += len(X_classify[i]) * np.dot((mju_classify[i] - mju).reshape(\n",
    "            (len(mju), 1)), (mju_classify[i] - mju).reshape((1, len(mju))))\n",
    "\n",
    "    eig_vals, eig_vecs = np.linalg.eig(\n",
    "        np.linalg.inv(Sw).dot(Sb))  # Вычислить собственное значение и собственную матрицу Sw-1 * Sb\n",
    "\n",
    "    sorted_indices = np.argsort(eig_vals)\n",
    "    topk_eig_vecs = eig_vecs[:, sorted_indices[:-k - 1:-1]]  # Извлекаем первые k векторов признаков\n",
    "    return topk_eig_vecs"
   ]
  },
  {
   "cell_type": "code",
   "execution_count": 110,
   "metadata": {},
   "outputs": [],
   "source": [
    "W = LDA_dimensionality(X_train, y_train, 2)\n",
    "X_train_new = np.dot(X_train, W)"
   ]
  },
  {
   "cell_type": "markdown",
   "metadata": {},
   "source": [
    "нарисуем исходный датасет и датасет после применения результата ЛДА:"
   ]
  },
  {
   "cell_type": "code",
   "execution_count": 111,
   "metadata": {},
   "outputs": [
    {
     "data": {
      "image/png": "[encoded data removed]",
      "text/plain": [
       "<Figure size 1600x600 with 2 Axes>"
      ]
     },
     "metadata": {},
     "output_type": "display_data"
    }
   ],
   "source": [
    "fig, (ax1, ax2) = plt.subplots(1, 2)\n",
    "fig.set_size_inches(16, 6)\n",
    "ax1.scatter(X_train[:, 0], X_train[:, 1], marker='o', c=y_train)\n",
    "ax1.title.set_text(\"Исходный X_train\")\n",
    "ax2.scatter(X_train_new[:, 0], X_train_new[:, 1], marker='o', c=y_train)\n",
    "ax2.title.set_text(\"X_train после LDA\")"
   ]
  },
  {
   "cell_type": "markdown",
   "metadata": {},
   "source": [
    "### классификация после применения LDA"
   ]
  },
  {
   "cell_type": "markdown",
   "metadata": {},
   "source": [
    "теперь попробуем заняться классификацией сортов ирисов из `X_test`. для этого предположим, что точки на картинке 2 распределены по двумерному гауссову распределению. вычислим его параметры:"
   ]
  },
  {
   "cell_type": "code",
   "execution_count": 112,
   "metadata": {},
   "outputs": [
    {
     "name": "stdout",
     "output_type": "stream",
     "text": [
      "sort 0\n",
      "means [1.57162052 2.33450798]\n",
      "cov matrix \n",
      " [[0.05791076 0.05787727]\n",
      " [0.05787727 0.09773705]] \n",
      "\n",
      "sort 1\n",
      "means [-0.91632062  2.04100148]\n",
      "cov matrix \n",
      " [[ 0.09598463 -0.02138145]\n",
      " [-0.02138145  0.06202162]] \n",
      "\n",
      "sort 2\n",
      "means [-1.84684005  2.41665184]\n",
      "cov matrix \n",
      " [[ 0.04070195 -0.02313953]\n",
      " [-0.02313953  0.12203598]] \n",
      "\n"
     ]
    }
   ],
   "source": [
    "X_sorts = {}\n",
    "means = {}\n",
    "covs = {}\n",
    "\n",
    "for sort in range(3):\n",
    "    X_sorts[sort] = np.array(X_train_new[y_train == sort])\n",
    "    means[sort] = X_sorts[sort].mean(axis=0)\n",
    "    covs[sort] = np.cov(X_sorts[sort].T)\n",
    "\n",
    "    print(\"sort\", sort)\n",
    "    print(\"means\", means[sort])\n",
    "    print(\"cov matrix \\n\", covs[sort], \"\\n\")"
   ]
  },
  {
   "cell_type": "markdown",
   "metadata": {},
   "source": [
    "применим MLE -- посмотрим, для какого из классов максимизируется функция логарифм правдоподобия (источник лог-функции: https://stats.stackexchange.com/a/351550)"
   ]
  },
  {
   "cell_type": "markdown",
   "metadata": {},
   "source": [
    "\\begin{aligned}\n",
    "\tl(\\mu, \\Sigma ; ) & = - \\frac{mp}{2} \\log (2 \\pi) - \\frac{m}{2} \\log |\\Sigma|  - \\frac{1}{2}  \\sum_{i=1}^m  \\mathbf{(x^{(i)} - \\mu)^T \\Sigma^{-1} (x^{(i)} - \\mu) }  \n",
    "\\end{aligned}"
   ]
  },
  {
   "cell_type": "code",
   "execution_count": 113,
   "metadata": {},
   "outputs": [],
   "source": [
    "def mle(mu, cov, x):\n",
    "    return -np.log( np.linalg.det(cov) ) - 0.5 * (x - mu).T @ np.linalg.inv(cov) @ (x - mu)"
   ]
  },
  {
   "cell_type": "code",
   "execution_count": 114,
   "metadata": {},
   "outputs": [],
   "source": [
    "def guess(x):\n",
    "    return max([0, 1, 2], key=lambda sort: mle(means[sort], covs[sort], x))"
   ]
  },
  {
   "cell_type": "markdown",
   "metadata": {},
   "source": [
    "для каждой точки из `X_test` будем определять, в каком сорте значение `mle` больше"
   ]
  },
  {
   "cell_type": "code",
   "execution_count": 115,
   "metadata": {},
   "outputs": [],
   "source": [
    "X_test_new = X_test @ W\n",
    "y_guess = [ guess(x) for x in X_test_new ]"
   ]
  },
  {
   "cell_type": "markdown",
   "metadata": {},
   "source": [
    "Метрики:"
   ]
  },
  {
   "cell_type": "code",
   "execution_count": 116,
   "metadata": {},
   "outputs": [
    {
     "data": {
      "text/plain": [
       "0.96"
      ]
     },
     "execution_count": 116,
     "metadata": {},
     "output_type": "execute_result"
    }
   ],
   "source": [
    "accuracy = sum(y_guess == y_test) / len(y_guess == y_test)\n",
    "accuracy"
   ]
  },
  {
   "cell_type": "markdown",
   "metadata": {},
   "source": [
    "### sklearn"
   ]
  },
  {
   "cell_type": "markdown",
   "metadata": {},
   "source": [
    "далее воспользуемся готовым методом LDA из библиотеки sklearn:"
   ]
  },
  {
   "cell_type": "code",
   "execution_count": 117,
   "metadata": {},
   "outputs": [
    {
     "data": {
      "text/plain": [
       "array([1, 0, 2, 1, 1, 0, 1, 2, 1, 1, 2, 0, 0, 0, 0, 1, 2, 1, 1, 2, 0, 2,\n",
       "       0, 2, 2, 2, 2, 2, 0, 0, 0, 0, 1, 0, 0, 2, 1, 0, 0, 0, 2, 1, 1, 0,\n",
       "       0, 1, 1, 2, 1, 2, 1, 2, 1, 0, 2, 1, 0, 0, 0, 1, 2, 0, 0, 0, 1, 0,\n",
       "       1, 2, 0, 1, 2, 0, 2, 2, 1])"
      ]
     },
     "execution_count": 117,
     "metadata": {},
     "output_type": "execute_result"
    }
   ],
   "source": [
    "from sklearn.discriminant_analysis import LinearDiscriminantAnalysis\n",
    "clf = LinearDiscriminantAnalysis()\n",
    "clf.fit(X_train, y_train)\n",
    "clf.predict(X_test)"
   ]
  },
  {
   "cell_type": "markdown",
   "metadata": {},
   "source": [
    "точность:"
   ]
  },
  {
   "cell_type": "code",
   "execution_count": 118,
   "metadata": {},
   "outputs": [
    {
     "data": {
      "text/plain": [
       "0.9866666666666667"
      ]
     },
     "execution_count": 118,
     "metadata": {},
     "output_type": "execute_result"
    }
   ],
   "source": [
    "clf.score(X_test, y_test)"
   ]
  },
  {
   "cell_type": "markdown",
   "metadata": {},
   "source": [
    "можно заметить, что решение через библиотеку ужасно примитивное и занимает две строчки"
   ]
  },
  {
   "cell_type": "markdown",
   "metadata": {},
   "source": [
    "### sklearn modification"
   ]
  },
  {
   "cell_type": "markdown",
   "metadata": {},
   "source": [
    "изменим параметр `solver`"
   ]
  },
  {
   "cell_type": "code",
   "execution_count": 119,
   "metadata": {},
   "outputs": [
    {
     "data": {
      "text/plain": [
       "array([1, 0, 2, 1, 1, 0, 1, 2, 1, 1, 2, 0, 0, 0, 0, 1, 2, 1, 1, 2, 0, 2,\n",
       "       0, 2, 2, 2, 2, 2, 0, 0, 0, 0, 1, 0, 0, 2, 1, 0, 0, 0, 2, 1, 1, 0,\n",
       "       0, 1, 2, 2, 1, 2, 1, 2, 1, 0, 2, 1, 0, 0, 0, 1, 2, 0, 0, 0, 1, 0,\n",
       "       1, 2, 0, 1, 2, 0, 2, 2, 1])"
      ]
     },
     "execution_count": 119,
     "metadata": {},
     "output_type": "execute_result"
    }
   ],
   "source": [
    "clf = LinearDiscriminantAnalysis(solver='eigen', shrinkage=0.1)\n",
    "clf.fit(X_train, y_train)\n",
    "clf.predict(X_test)"
   ]
  },
  {
   "cell_type": "markdown",
   "metadata": {},
   "source": [
    "точность:"
   ]
  },
  {
   "cell_type": "code",
   "execution_count": 120,
   "metadata": {},
   "outputs": [
    {
     "data": {
      "text/plain": [
       "1.0"
      ]
     },
     "execution_count": 120,
     "metadata": {},
     "output_type": "execute_result"
    }
   ],
   "source": [
    "clf.score(X_test, y_test)"
   ]
  }
 ],
 "metadata": {
  "kernelspec": {
   "display_name": "venv",
   "language": "python",
   "name": "venv"
  },
  "language_info": {
   "codemirror_mode": {
    "name": "ipython",
    "version": 3
   },
   "file_extension": ".py",
   "mimetype": "text/x-python",
   "name": "python",
   "nbconvert_exporter": "python",
   "pygments_lexer": "ipython3",
   "version": "3.10.6"
  },
  "vscode": {
   "interpreter": {
    "hash": "e7370f93d1d0cde622a1f8e1c04877d8463912d04d973331ad4851f04de6915a"
   }
  }
 },
 "nbformat": 4,
 "nbformat_minor": 2
}
